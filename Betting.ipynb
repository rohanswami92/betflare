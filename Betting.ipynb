{
 "cells": [
  {
   "cell_type": "code",
   "execution_count": 1,
   "metadata": {
    "collapsed": false
   },
   "outputs": [
    {
     "name": "stdout",
     "output_type": "stream",
     "text": [
      "    bet_status       date_placed             type  \\\n",
      "0          Win  24/11/2016 17:32           Soccer   \n",
      "1          Win  24/11/2016 17:31           Soccer   \n",
      "2         Lose  24/11/2016 17:31           Soccer   \n",
      "3         Lose  24/11/2016 17:31           Soccer   \n",
      "4         Lose  24/11/2016 17:31           Soccer   \n",
      "5         Lose  24/11/2016 17:31           Soccer   \n",
      "6         Lose  24/11/2016 17:31           Soccer   \n",
      "7         Lose  24/11/2016 17:31           Soccer   \n",
      "8          Win  24/11/2016 17:31           Soccer   \n",
      "9         Lose  23/11/2016 18:04           Soccer   \n",
      "10        Lose  23/11/2016 18:03           Soccer   \n",
      "11        Lose  23/11/2016 18:03           Soccer   \n",
      "12        Lose  23/11/2016 18:03           Soccer   \n",
      "13         Win  23/11/2016 18:03           Soccer   \n",
      "14        Lose  22/11/2016 16:43           Soccer   \n",
      "15        Lose  22/11/2016 16:43           Soccer   \n",
      "16        Lose  22/11/2016 16:43           Soccer   \n",
      "17        Lose  22/11/2016 16:43           Soccer   \n",
      "18        Lose  22/11/2016 16:43           Soccer   \n",
      "19        Lose  22/11/2016 16:43           Soccer   \n",
      "20        Lose  19/11/2016 23:24           Soccer   \n",
      "21        Lose  19/11/2016 23:24           Soccer   \n",
      "22        Lose  19/11/2016 23:24           Soccer   \n",
      "23        Lose  19/11/2016 23:24           Soccer   \n",
      "24        Lose  19/11/2016 23:24           Soccer   \n",
      "25         Win  19/11/2016 23:24           Soccer   \n",
      "26        Lose  19/11/2016 23:24           Soccer   \n",
      "27        Lose  19/11/2016 23:24           Soccer   \n",
      "28         Win  19/11/2016 23:24           Soccer   \n",
      "29        Lose  16/11/2016 10:32           Soccer   \n",
      "..         ...               ...              ...   \n",
      "402       Lose  21/08/2015 21:06           Soccer   \n",
      "403       Lose  21/08/2015 20:59           Soccer   \n",
      "404       Lose  21/08/2015 20:53           Soccer   \n",
      "405       Lose  13/08/2015 19:43           Soccer   \n",
      "406       Lose  13/08/2015 19:41           Soccer   \n",
      "407       Lose   7/08/2015 17:41           Soccer   \n",
      "408       Lose   7/08/2015 17:30           Soccer   \n",
      "409       Lose   7/08/2015 17:27           Soccer   \n",
      "410       Lose   7/08/2015 17:26           Soccer   \n",
      "411       Lose   6/02/2015 16:46           Soccer   \n",
      "412       Lose   6/02/2015 16:40           Soccer   \n",
      "413       Lose  30/01/2015 13:42           Soccer   \n",
      "414       Lose  30/01/2015 13:20           Soccer   \n",
      "415        Win  29/01/2015 14:32           Soccer   \n",
      "416       Lose  27/01/2015 18:37           Tennis   \n",
      "417       Lose  22/01/2015 15:36          Cricket   \n",
      "418       Lose  21/01/2015 17:42           Soccer   \n",
      "419       Lose  21/01/2015 17:41           Soccer   \n",
      "420       Lose  21/01/2015 17:38           Soccer   \n",
      "421       Lose  15/01/2015 19:42           Soccer   \n",
      "422       Lose  15/01/2015 16:59           Soccer   \n",
      "423       Lose  15/01/2015 14:00          Cricket   \n",
      "424        Win  15/01/2015 13:59          Cricket   \n",
      "425       Lose  15/01/2015 13:59          Cricket   \n",
      "426        Win  15/01/2015 13:54          Cricket   \n",
      "427        Win    8/01/2015 9:55          Cricket   \n",
      "428       Lose    8/01/2015 9:54           Soccer   \n",
      "429       Lose   4/11/2014 14:32  Horses - Aus/NZ   \n",
      "430       Lose   4/11/2014 14:32  Horses - Aus/NZ   \n",
      "431       Lose   4/11/2014 14:32  Horses - Aus/NZ   \n",
      "\n",
      "                                           bet_details         price    odds  \\\n",
      "0                                   Multibet (Trebles)          2.54    2.54   \n",
      "1    Ajax v Panathinaikos / Win-Draw-Win / Ajax @ 1.73    1.73 (Win)    1.73   \n",
      "2    Celta Vigo v Standard Liege / Win-Draw-Win / C...    1.61 (Win)    1.61   \n",
      "3       Schalke 04 v Nice / Win-Draw-Win / Draw @ 3.50    3.50 (Win)     3.5   \n",
      "4    Fiorentina v PAOK / Win-Draw-Win / Fiorentina ...    1.61 (Win)    1.61   \n",
      "5    FC Zurich v Villarreal / Win-Draw-Win / Villar...    1.95 (Win)    1.95   \n",
      "6    Hapoel Beer Sheva v Inter Milan / Win-Draw-Win...    2.50 (Win)     2.5   \n",
      "7     Man Utd v Feyenoord / Win-Draw-Win / Draw @ 5.00    5.00 (Win)       5   \n",
      "8    Athletic Bilbao v Sassuolo / Win-Draw-Win / At...    1.44 (Win)    1.44   \n",
      "9                                   Multibet (Doubles)          1.67    1.67   \n",
      "10   Ludogorets Razgrad v FC Basel / Win-Draw-Win /...    2.70 (Win)     2.7   \n",
      "11   Napoli v Dynamo Kiev / Win-Draw-Win / Napoli @...    1.40 (Win)     1.4   \n",
      "12   Borussia Monchengladbach v Man City / Win-Draw...    1.75 (Win)    1.75   \n",
      "13   Atletico Madrid v PSV / Win-Draw-Win / Atletic...    1.33 (Win)    1.33   \n",
      "14   Monaco v Tottenham / Win-Draw-Win / Tottenham ...    2.80 (Win)     2.8   \n",
      "15   CSKA Moscow v Bayer Leverkusen / Win-Draw-Win ...    2.05 (Win)    2.05   \n",
      "16   Borussia Dortmund v Legia Warsaw / Win-Draw-Wi...    9.00 (Win)       9   \n",
      "17   Sporting Lisbon v Real Madrid / Win-Draw-Win /...    4.20 (Win)     4.2   \n",
      "18   Leicester v Club Brugge / To Win to Nil / Leic...    2.40 (Win)     2.4   \n",
      "19   FC Copenhagen v Porto / Win-Draw-Win / Porto @...    2.40 (Win)     2.4   \n",
      "20   AC Milan v Inter Milan / Win-Draw-Win / AC Mil...    2.70 (Win)     2.7   \n",
      "21   Athletic Bilbao v Villarreal / Win-Draw-Win / ...    3.60 (Win)     3.6   \n",
      "22   Atletico Madrid v Real Madrid / Win-Draw-Win /...    3.10 (Win)     3.1   \n",
      "23      Sunderland v Hull / Win-Draw-Win / Draw @ 3.30    3.30 (Win)     3.3   \n",
      "24   Watford v Leicester / Win-Draw-Win / Leicester...    2.70 (Win)     2.7   \n",
      "25      Everton v Swansea / Win-Draw-Win / Draw @ 4.33    4.33 (Win)    4.33   \n",
      "26   Stoke v Bournemouth / Win-Draw-Win / Stoke @ 2.30    2.30 (Win)     2.3   \n",
      "27   Southampton v Liverpool / Win-Draw-Win / Liver...    2.30 (Win)     2.3   \n",
      "28      Man Utd v Arsenal / Win-Draw-Win / Draw @ 3.30    3.30 (Win)     3.3   \n",
      "29      Panama v Mexico / Win-Draw-Win / Mexico @ 1.67    1.67 (Win)    1.67   \n",
      "..                                                 ...           ...     ...   \n",
      "402                                 Multibet (5 folds)         39.06   39.06   \n",
      "403                                 Multibet (5 folds)         76.21   76.21   \n",
      "404                                 Multibet (5 folds)         55.89   55.89   \n",
      "405                                 Multibet (6 folds)        304.07  304.07   \n",
      "406                                 Multibet (5 folds)         89.43   89.43   \n",
      "407                                 Multibet (5 folds)         33.61   33.61   \n",
      "408                                 Multibet (6 folds)         69.73   69.73   \n",
      "409                                 Multibet (6 folds)        100.04  100.04   \n",
      "410                                 Multibet (6 folds)         41.65   41.65   \n",
      "411                                 Multibet (Trebles)         23.62   23.62   \n",
      "412                                 Multibet (5 folds)         17.09   17.09   \n",
      "413                                 Multibet (4 folds)           4.3     4.3   \n",
      "414                                 Multibet (7 folds)        179.33  179.33   \n",
      "415                                 Multibet (Doubles)           2.9     2.9   \n",
      "416  A Murray v N Kyrgios / Set Betting / A Murray ...    3.60 (Win)     3.6   \n",
      "417                                 Multibet (Doubles)          3.11    3.11   \n",
      "418                                 Multibet (Trebles)          4.53    4.53   \n",
      "419                                 Multibet (Trebles)         11.17   11.17   \n",
      "420                                 Multibet (6 folds)          9.39    9.39   \n",
      "421                                 Multibet (Trebles)          4.49    4.49   \n",
      "422                                 Multibet (5 folds)        138.91  138.91   \n",
      "423  Australia v England / 1st Wicket Caught? / Yes...    1.40 (Win)     1.4   \n",
      "424  Australia v England / Team A - Batsman C Total...    1.85 (Win)    1.85   \n",
      "425  Australia v England / Team A - Batsman A Total...    1.88 (Win)    1.88   \n",
      "426     Australia v England / Match / Australia @ 1.36    1.36 (Win)    1.36   \n",
      "427  Australia v India / Team Total Runs - Level 3*...    2.25 (Win)    2.25   \n",
      "428                                 Multibet (4 folds)        124.74  124.74   \n",
      "429  Flemington R7 / Win or Place / 13. Willing Foe...  8.50 (Place)     8.5   \n",
      "430  Flemington R7 / Win or Place / 1. Admire Rakti...  2.10 (Place)     2.1   \n",
      "431  Flemington R7 / Win or Place / 22. Lucia Valen...  2.50 (Place)     2.5   \n",
      "\n",
      "     stake  return               bet_id    bet_type  number_of_lines  \\\n",
      "0     3.00    7.64  O/1945704/0000432/D    Multibet                1   \n",
      "1     3.00    5.19  O/1945704/0000431/D      Single                1   \n",
      "2     3.00    0.00  O/1945704/0000430/D      Single                1   \n",
      "3     3.00    0.00  O/1945704/0000429/D      Single                1   \n",
      "4     3.00    0.00  O/1945704/0000428/D      Single                1   \n",
      "5     3.00    0.00  O/1945704/0000427/D      Single                1   \n",
      "6     3.00    0.00  O/1945704/0000426/D      Single                1   \n",
      "7     3.00    0.00  O/1945704/0000425/D      Single                1   \n",
      "8     3.00    4.32  O/1945704/0000424/D      Single                1   \n",
      "9     5.00    0.00  O/1945704/0000423/D    Multibet                1   \n",
      "10    3.00    0.00  O/1945704/0000422/D      Single                1   \n",
      "11    4.00    0.00  O/1945704/0000421/D      Single                1   \n",
      "12    4.00    0.00  O/1945704/0000420/D      Single                1   \n",
      "13    4.00    5.32  O/1945704/0000419/D      Single                1   \n",
      "14    4.00    0.00  O/1945704/0000418/D      Single                1   \n",
      "15    4.00    0.00  O/1945704/0000417/D      Single                1   \n",
      "16    2.00    0.00  O/1945704/0000416/D      Single                1   \n",
      "17    2.00    0.00  O/1945704/0000415/D      Single                1   \n",
      "18    4.00    0.00  O/1945704/0000414/D      Single                1   \n",
      "19    4.00    0.00  O/1945704/0000413/D      Single                1   \n",
      "20    4.00    0.00  O/1945704/0000412/D      Single                1   \n",
      "21    4.00    0.00  O/1945704/0000411/D      Single                1   \n",
      "22    4.00    0.00  O/1945704/0000410/D      Single                1   \n",
      "23    4.00    0.00  O/1945704/0000409/D      Single                1   \n",
      "24    4.00    0.00  O/1945704/0000408/D      Single                1   \n",
      "25    4.00   17.32  O/1945704/0000407/D      Single                1   \n",
      "26    4.00    0.00  O/1945704/0000406/D      Single                1   \n",
      "27    4.00    0.00  O/1945704/0000405/D      Single                1   \n",
      "28    4.00   13.20  O/1945704/0000404/D      Single                1   \n",
      "29    5.00    0.00  O/1945704/0000403/D      Single                1   \n",
      "..     ...     ...                  ...         ...              ...   \n",
      "402   5.00    0.00  O/1945704/0000030/D    Multibet                1   \n",
      "403   5.00    0.00  O/1945704/0000029/D    Multibet                1   \n",
      "404  10.00    0.00  O/1945704/0000028/D    Multibet                1   \n",
      "405   5.00    0.00  O/1945704/0000027/D    Multibet                1   \n",
      "406   5.00    0.00  O/1945704/0000026/D    Multibet                1   \n",
      "407   2.50    0.00  O/1945704/0000025/D    Multibet                1   \n",
      "408   2.50    0.00  O/1945704/0000024/D    Multibet                1   \n",
      "409   2.50    0.00  O/1945704/0000023/D    Multibet                1   \n",
      "410   2.50    0.00  O/1945704/0000022/D    Multibet                1   \n",
      "411   2.00    0.00  O/1945704/0000021/D    Multibet                1   \n",
      "412   3.36    0.00  O/1945704/0000020/D    Multibet                1   \n",
      "413   5.00    0.00  O/1945704/0000019/D    Multibet                1   \n",
      "414   5.00    0.00  O/1945704/0000018/D    Multibet                1   \n",
      "415   2.00    5.81  O/1945704/0000017/D    Multibet                1   \n",
      "416   2.00    0.00  O/1945704/0000016/D      Single                1   \n",
      "417   2.00    0.00  O/1945704/0000015/D    Multibet                1   \n",
      "418   2.00    0.00  O/1945704/0000014/D    Multibet                1   \n",
      "419   1.00    0.00  O/1945704/0000013/D    Multibet                1   \n",
      "420   3.00    0.00  O/1945704/0000012/D    Multibet                1   \n",
      "421   2.00    0.00  O/1945704/0000011/D    Multibet                1   \n",
      "422   5.00    0.00  O/1945704/0000010/D    Multibet                1   \n",
      "423   5.00    0.00  O/1945704/0000009/D      Single                1   \n",
      "424   5.00    9.25  O/1945704/0000008/D  Over/Under                1   \n",
      "425   5.00    0.00  O/1945704/0000007/D  Over/Under                1   \n",
      "426   5.00    6.80  O/1945704/0000006/D      Single                1   \n",
      "427  10.00   22.50  O/1945704/0000005/D  Over/Under                1   \n",
      "428   5.00    0.00  O/1945704/0000004/D    Multibet                1   \n",
      "429  10.00    0.00  O/1945704/0000003/D      Single                1   \n",
      "430  10.00    0.00  O/1945704/0000002/D      Single                1   \n",
      "431  10.00    0.00  O/1945704/0000001/D      Single                1   \n",
      "\n",
      "     stake_per_line percentage      channel  bonus_bets_redeemed  \\\n",
      "0              3.00        NaN  SB Internet                    0   \n",
      "1              3.00        NaN  SB Internet                    0   \n",
      "2              3.00        NaN  SB Internet                    0   \n",
      "3              3.00        NaN  SB Internet                    0   \n",
      "4              3.00        NaN  SB Internet                    0   \n",
      "5              3.00        NaN  SB Internet                    0   \n",
      "6              3.00        NaN  SB Internet                    0   \n",
      "7              3.00        NaN  SB Internet                    0   \n",
      "8              3.00        NaN  SB Internet                    0   \n",
      "9              5.00        NaN  SB Internet                    0   \n",
      "10             3.00        NaN  SB Internet                    0   \n",
      "11             4.00        NaN  SB Internet                    0   \n",
      "12             4.00        NaN  SB Internet                    0   \n",
      "13             4.00        NaN  SB Internet                    0   \n",
      "14             4.00        NaN  SB Internet                    0   \n",
      "15             4.00        NaN  SB Internet                    0   \n",
      "16             2.00        NaN  SB Internet                    0   \n",
      "17             2.00        NaN  SB Internet                    0   \n",
      "18             4.00        NaN  SB Internet                    0   \n",
      "19             4.00        NaN  SB Internet                    0   \n",
      "20             4.00        NaN    SB Mobile                    0   \n",
      "21             4.00        NaN    SB Mobile                    0   \n",
      "22             4.00        NaN    SB Mobile                    0   \n",
      "23             4.00        NaN    SB Mobile                    0   \n",
      "24             4.00        NaN    SB Mobile                    0   \n",
      "25             4.00        NaN    SB Mobile                    0   \n",
      "26             4.00        NaN    SB Mobile                    0   \n",
      "27             4.00        NaN    SB Mobile                    0   \n",
      "28             4.00        NaN    SB Mobile                    0   \n",
      "29             5.00        NaN  SB Internet                    0   \n",
      "..              ...        ...          ...                  ...   \n",
      "402            5.00        NaN  SB Internet                    0   \n",
      "403            5.00        NaN  SB Internet                    0   \n",
      "404           10.00        NaN  SB Internet                    0   \n",
      "405            5.00        NaN  SB Internet                    0   \n",
      "406            5.00        NaN  SB Internet                    0   \n",
      "407            2.50        NaN  SB Internet                    0   \n",
      "408            2.50        NaN  SB Internet                    0   \n",
      "409            2.50        NaN  SB Internet                    0   \n",
      "410            2.50        NaN  SB Internet                    0   \n",
      "411            2.00        NaN  SB Internet                    0   \n",
      "412            3.36        NaN  SB Internet                    0   \n",
      "413            5.00        NaN  SB Internet                    0   \n",
      "414            5.00        NaN  SB Internet                    0   \n",
      "415            2.00        NaN  SB Internet                    0   \n",
      "416            2.00        NaN  SB Internet                    0   \n",
      "417            2.00        NaN  SB Internet                    0   \n",
      "418            2.00        NaN  SB Internet                    0   \n",
      "419            1.00        NaN  SB Internet                    0   \n",
      "420            3.00        NaN  SB Internet                    0   \n",
      "421            2.00        NaN  SB Internet                    0   \n",
      "422            5.00        NaN  SB Internet                    0   \n",
      "423            5.00        NaN  SB Internet                    0   \n",
      "424            5.00        NaN  SB Internet                    0   \n",
      "425            5.00        NaN  SB Internet                    0   \n",
      "426            5.00        NaN  SB Internet                    0   \n",
      "427           10.00        NaN  SB Internet                    0   \n",
      "428            5.00        NaN  SB Internet                    0   \n",
      "429           10.00        NaN  SB Internet                    0   \n",
      "430           10.00        NaN  SB Internet                    0   \n",
      "431           10.00        NaN  SB Internet                    0   \n",
      "\n",
      "     Account No 137254651|AUD|All Dates|Item Count 432|Bet History All bets|  \n",
      "0                                                  NaN                        \n",
      "1                                                  NaN                        \n",
      "2                                                  NaN                        \n",
      "3                                                  NaN                        \n",
      "4                                                  NaN                        \n",
      "5                                                  NaN                        \n",
      "6                                                  NaN                        \n",
      "7                                                  NaN                        \n",
      "8                                                  NaN                        \n",
      "9                                                  NaN                        \n",
      "10                                                 NaN                        \n",
      "11                                                 NaN                        \n",
      "12                                                 NaN                        \n",
      "13                                                 NaN                        \n",
      "14                                                 NaN                        \n",
      "15                                                 NaN                        \n",
      "16                                                 NaN                        \n",
      "17                                                 NaN                        \n",
      "18                                                 NaN                        \n",
      "19                                                 NaN                        \n",
      "20                                                 NaN                        \n",
      "21                                                 NaN                        \n",
      "22                                                 NaN                        \n",
      "23                                                 NaN                        \n",
      "24                                                 NaN                        \n",
      "25                                                 NaN                        \n",
      "26                                                 NaN                        \n",
      "27                                                 NaN                        \n",
      "28                                                 NaN                        \n",
      "29                                                 NaN                        \n",
      "..                                                 ...                        \n",
      "402                                                NaN                        \n",
      "403                                                NaN                        \n",
      "404                                                NaN                        \n",
      "405                                                NaN                        \n",
      "406                                                NaN                        \n",
      "407                                                NaN                        \n",
      "408                                                NaN                        \n",
      "409                                                NaN                        \n",
      "410                                                NaN                        \n",
      "411                                                NaN                        \n",
      "412                                                NaN                        \n",
      "413                                                NaN                        \n",
      "414                                                NaN                        \n",
      "415                                                NaN                        \n",
      "416                                                NaN                        \n",
      "417                                                NaN                        \n",
      "418                                                NaN                        \n",
      "419                                                NaN                        \n",
      "420                                                NaN                        \n",
      "421                                                NaN                        \n",
      "422                                                NaN                        \n",
      "423                                                NaN                        \n",
      "424                                                NaN                        \n",
      "425                                                NaN                        \n",
      "426                                                NaN                        \n",
      "427                                                NaN                        \n",
      "428                                                NaN                        \n",
      "429                                                NaN                        \n",
      "430                                                NaN                        \n",
      "431                                                NaN                        \n",
      "\n",
      "[432 rows x 16 columns]\n"
     ]
    }
   ],
   "source": [
    "%matplotlib inline\n",
    "\n",
    "import matplotlib\n",
    "import pandas as pd\n",
    "import numpy as np\n",
    "import matplotlib.pyplot as plt\n",
    "\n",
    "data = pd.read_csv('C:\\\\Users\\Rohan\\Documents\\BetHistory.csv')\n",
    "print(data)"
   ]
  },
  {
   "cell_type": "code",
   "execution_count": 2,
   "metadata": {
    "collapsed": false
   },
   "outputs": [
    {
     "data": {
      "text/html": [
       "<div>\n",
       "<table border=\"1\" class=\"dataframe\">\n",
       "  <thead>\n",
       "    <tr style=\"text-align: right;\">\n",
       "      <th></th>\n",
       "      <th>bet_status</th>\n",
       "      <th>date_placed</th>\n",
       "      <th>type</th>\n",
       "      <th>bet_details</th>\n",
       "      <th>price</th>\n",
       "      <th>odds</th>\n",
       "      <th>stake</th>\n",
       "      <th>return</th>\n",
       "      <th>bet_id</th>\n",
       "      <th>bet_type</th>\n",
       "      <th>number_of_lines</th>\n",
       "      <th>stake_per_line</th>\n",
       "      <th>percentage</th>\n",
       "      <th>channel</th>\n",
       "      <th>bonus_bets_redeemed</th>\n",
       "      <th>Account No 137254651|AUD|All Dates|Item Count 432|Bet History All bets|</th>\n",
       "    </tr>\n",
       "  </thead>\n",
       "  <tbody>\n",
       "    <tr>\n",
       "      <th>0</th>\n",
       "      <td>Win</td>\n",
       "      <td>24/11/2016 17:32</td>\n",
       "      <td>Soccer</td>\n",
       "      <td>Multibet (Trebles)</td>\n",
       "      <td>2.54</td>\n",
       "      <td>2.54</td>\n",
       "      <td>3.0</td>\n",
       "      <td>7.64</td>\n",
       "      <td>O/1945704/0000432/D</td>\n",
       "      <td>Multibet</td>\n",
       "      <td>1</td>\n",
       "      <td>3.0</td>\n",
       "      <td></td>\n",
       "      <td>SB Internet</td>\n",
       "      <td>0</td>\n",
       "      <td></td>\n",
       "    </tr>\n",
       "    <tr>\n",
       "      <th>1</th>\n",
       "      <td>Win</td>\n",
       "      <td>24/11/2016 17:31</td>\n",
       "      <td>Soccer</td>\n",
       "      <td>Ajax v Panathinaikos / Win-Draw-Win / Ajax @ 1.73</td>\n",
       "      <td>1.73 (Win)</td>\n",
       "      <td>1.73</td>\n",
       "      <td>3.0</td>\n",
       "      <td>5.19</td>\n",
       "      <td>O/1945704/0000431/D</td>\n",
       "      <td>Single</td>\n",
       "      <td>1</td>\n",
       "      <td>3.0</td>\n",
       "      <td></td>\n",
       "      <td>SB Internet</td>\n",
       "      <td>0</td>\n",
       "      <td></td>\n",
       "    </tr>\n",
       "    <tr>\n",
       "      <th>2</th>\n",
       "      <td>Lose</td>\n",
       "      <td>24/11/2016 17:31</td>\n",
       "      <td>Soccer</td>\n",
       "      <td>Celta Vigo v Standard Liege / Win-Draw-Win / C...</td>\n",
       "      <td>1.61 (Win)</td>\n",
       "      <td>1.61</td>\n",
       "      <td>3.0</td>\n",
       "      <td>0.00</td>\n",
       "      <td>O/1945704/0000430/D</td>\n",
       "      <td>Single</td>\n",
       "      <td>1</td>\n",
       "      <td>3.0</td>\n",
       "      <td></td>\n",
       "      <td>SB Internet</td>\n",
       "      <td>0</td>\n",
       "      <td></td>\n",
       "    </tr>\n",
       "    <tr>\n",
       "      <th>3</th>\n",
       "      <td>Lose</td>\n",
       "      <td>24/11/2016 17:31</td>\n",
       "      <td>Soccer</td>\n",
       "      <td>Schalke 04 v Nice / Win-Draw-Win / Draw @ 3.50</td>\n",
       "      <td>3.50 (Win)</td>\n",
       "      <td>3.5</td>\n",
       "      <td>3.0</td>\n",
       "      <td>0.00</td>\n",
       "      <td>O/1945704/0000429/D</td>\n",
       "      <td>Single</td>\n",
       "      <td>1</td>\n",
       "      <td>3.0</td>\n",
       "      <td></td>\n",
       "      <td>SB Internet</td>\n",
       "      <td>0</td>\n",
       "      <td></td>\n",
       "    </tr>\n",
       "    <tr>\n",
       "      <th>4</th>\n",
       "      <td>Lose</td>\n",
       "      <td>24/11/2016 17:31</td>\n",
       "      <td>Soccer</td>\n",
       "      <td>Fiorentina v PAOK / Win-Draw-Win / Fiorentina ...</td>\n",
       "      <td>1.61 (Win)</td>\n",
       "      <td>1.61</td>\n",
       "      <td>3.0</td>\n",
       "      <td>0.00</td>\n",
       "      <td>O/1945704/0000428/D</td>\n",
       "      <td>Single</td>\n",
       "      <td>1</td>\n",
       "      <td>3.0</td>\n",
       "      <td></td>\n",
       "      <td>SB Internet</td>\n",
       "      <td>0</td>\n",
       "      <td></td>\n",
       "    </tr>\n",
       "  </tbody>\n",
       "</table>\n",
       "</div>"
      ],
      "text/plain": [
       "  bet_status       date_placed    type  \\\n",
       "0        Win  24/11/2016 17:32  Soccer   \n",
       "1        Win  24/11/2016 17:31  Soccer   \n",
       "2       Lose  24/11/2016 17:31  Soccer   \n",
       "3       Lose  24/11/2016 17:31  Soccer   \n",
       "4       Lose  24/11/2016 17:31  Soccer   \n",
       "\n",
       "                                         bet_details       price  odds  stake  \\\n",
       "0                                 Multibet (Trebles)        2.54  2.54    3.0   \n",
       "1  Ajax v Panathinaikos / Win-Draw-Win / Ajax @ 1.73  1.73 (Win)  1.73    3.0   \n",
       "2  Celta Vigo v Standard Liege / Win-Draw-Win / C...  1.61 (Win)  1.61    3.0   \n",
       "3     Schalke 04 v Nice / Win-Draw-Win / Draw @ 3.50  3.50 (Win)   3.5    3.0   \n",
       "4  Fiorentina v PAOK / Win-Draw-Win / Fiorentina ...  1.61 (Win)  1.61    3.0   \n",
       "\n",
       "   return               bet_id  bet_type  number_of_lines  stake_per_line  \\\n",
       "0    7.64  O/1945704/0000432/D  Multibet                1             3.0   \n",
       "1    5.19  O/1945704/0000431/D    Single                1             3.0   \n",
       "2    0.00  O/1945704/0000430/D    Single                1             3.0   \n",
       "3    0.00  O/1945704/0000429/D    Single                1             3.0   \n",
       "4    0.00  O/1945704/0000428/D    Single                1             3.0   \n",
       "\n",
       "  percentage      channel  bonus_bets_redeemed  \\\n",
       "0             SB Internet                    0   \n",
       "1             SB Internet                    0   \n",
       "2             SB Internet                    0   \n",
       "3             SB Internet                    0   \n",
       "4             SB Internet                    0   \n",
       "\n",
       "  Account No 137254651|AUD|All Dates|Item Count 432|Bet History All bets|  \n",
       "0                                                                          \n",
       "1                                                                          \n",
       "2                                                                          \n",
       "3                                                                          \n",
       "4                                                                          "
      ]
     },
     "execution_count": 2,
     "metadata": {},
     "output_type": "execute_result"
    }
   ],
   "source": [
    "data = data.fillna('')\n",
    "data.head()\n",
    "# sample rows data.sample(n=5)"
   ]
  },
  {
   "cell_type": "code",
   "execution_count": 3,
   "metadata": {
    "collapsed": false,
    "scrolled": true
   },
   "outputs": [
    {
     "data": {
      "text/html": [
       "<div>\n",
       "<table border=\"1\" class=\"dataframe\">\n",
       "  <thead>\n",
       "    <tr style=\"text-align: right;\">\n",
       "      <th></th>\n",
       "      <th>bet_status</th>\n",
       "      <th>date_placed</th>\n",
       "      <th>type</th>\n",
       "      <th>bet_details</th>\n",
       "      <th>odds</th>\n",
       "      <th>stake</th>\n",
       "      <th>return</th>\n",
       "      <th>bet_type</th>\n",
       "    </tr>\n",
       "  </thead>\n",
       "  <tbody>\n",
       "    <tr>\n",
       "      <th>12</th>\n",
       "      <td>Lose</td>\n",
       "      <td>23/11/2016 18:03</td>\n",
       "      <td>Soccer</td>\n",
       "      <td>Borussia Monchengladbach v Man City / Win-Draw...</td>\n",
       "      <td>1.75</td>\n",
       "      <td>4.0</td>\n",
       "      <td>0.00</td>\n",
       "      <td>Single</td>\n",
       "    </tr>\n",
       "    <tr>\n",
       "      <th>205</th>\n",
       "      <td>Win</td>\n",
       "      <td>12/08/2016 17:00</td>\n",
       "      <td>Soccer</td>\n",
       "      <td>Multibet (Doubles)</td>\n",
       "      <td>2.08</td>\n",
       "      <td>5.0</td>\n",
       "      <td>10.40</td>\n",
       "      <td>Multibet</td>\n",
       "    </tr>\n",
       "    <tr>\n",
       "      <th>395</th>\n",
       "      <td>Lose</td>\n",
       "      <td>11/09/2015 16:15</td>\n",
       "      <td>Soccer</td>\n",
       "      <td>Multibet (4 folds)</td>\n",
       "      <td>65.52</td>\n",
       "      <td>2.5</td>\n",
       "      <td>0.00</td>\n",
       "      <td>Multibet</td>\n",
       "    </tr>\n",
       "    <tr>\n",
       "      <th>94</th>\n",
       "      <td>Lose</td>\n",
       "      <td>20/10/2016 22:48</td>\n",
       "      <td>Soccer</td>\n",
       "      <td>Konyaspor v Sporting Braga / Win-Draw-Win / Sp...</td>\n",
       "      <td>2.4</td>\n",
       "      <td>3.0</td>\n",
       "      <td>0.00</td>\n",
       "      <td>Single</td>\n",
       "    </tr>\n",
       "    <tr>\n",
       "      <th>176</th>\n",
       "      <td>Win</td>\n",
       "      <td>15/09/2016 22:59</td>\n",
       "      <td>Soccer</td>\n",
       "      <td>Anderlecht v FK Gabala / Win-Draw-Win / Anderl...</td>\n",
       "      <td>1.45</td>\n",
       "      <td>5.0</td>\n",
       "      <td>7.25</td>\n",
       "      <td>Single</td>\n",
       "    </tr>\n",
       "  </tbody>\n",
       "</table>\n",
       "</div>"
      ],
      "text/plain": [
       "    bet_status       date_placed    type  \\\n",
       "12        Lose  23/11/2016 18:03  Soccer   \n",
       "205        Win  12/08/2016 17:00  Soccer   \n",
       "395       Lose  11/09/2015 16:15  Soccer   \n",
       "94        Lose  20/10/2016 22:48  Soccer   \n",
       "176        Win  15/09/2016 22:59  Soccer   \n",
       "\n",
       "                                           bet_details   odds  stake  return  \\\n",
       "12   Borussia Monchengladbach v Man City / Win-Draw...   1.75    4.0    0.00   \n",
       "205                                 Multibet (Doubles)   2.08    5.0   10.40   \n",
       "395                                 Multibet (4 folds)  65.52    2.5    0.00   \n",
       "94   Konyaspor v Sporting Braga / Win-Draw-Win / Sp...    2.4    3.0    0.00   \n",
       "176  Anderlecht v FK Gabala / Win-Draw-Win / Anderl...   1.45    5.0    7.25   \n",
       "\n",
       "     bet_type  \n",
       "12     Single  \n",
       "205  Multibet  \n",
       "395  Multibet  \n",
       "94     Single  \n",
       "176    Single  "
      ]
     },
     "execution_count": 3,
     "metadata": {},
     "output_type": "execute_result"
    }
   ],
   "source": [
    "#add index and remove other sports\n",
    "data = data[['bet_status', 'date_placed', 'type', 'bet_details', 'odds', 'stake', 'return', 'bet_type']]\n",
    "\n",
    "index=1\n",
    "sport_index = (data['type'] == 'Soccer')\n",
    "soccer_data = data[sport_index]\n",
    "soccer_data.sample(n=5)"
   ]
  },
  {
   "cell_type": "code",
   "execution_count": 4,
   "metadata": {
    "collapsed": false
   },
   "outputs": [
    {
     "data": {
      "text/plain": [
       "bet_status      object\n",
       "date_placed     object\n",
       "type            object\n",
       "bet_details     object\n",
       "odds            object\n",
       "stake          float64\n",
       "return         float64\n",
       "bet_type        object\n",
       "dtype: object"
      ]
     },
     "execution_count": 4,
     "metadata": {},
     "output_type": "execute_result"
    }
   ],
   "source": [
    "soccer_data.dtypes"
   ]
  },
  {
   "cell_type": "code",
   "execution_count": 5,
   "metadata": {
    "collapsed": false
   },
   "outputs": [
    {
     "data": {
      "text/plain": [
       "<matplotlib.axes._subplots.AxesSubplot at 0x1e58fffb2b0>"
      ]
     },
     "execution_count": 5,
     "metadata": {},
     "output_type": "execute_result"
    },
    {
     "data": {
      "image/png": "[encoded data removed]",
      "text/plain": [
       "<matplotlib.figure.Figure at 0x1e58d413c50>"
      ]
     },
     "metadata": {},
     "output_type": "display_data"
    }
   ],
   "source": [
    "soccer_data['bet_type'].value_counts().plot(kind='bar',title = '# Bets by bet type')"
   ]
  },
  {
   "cell_type": "code",
   "execution_count": 6,
   "metadata": {
    "collapsed": false,
    "scrolled": false
   },
   "outputs": [
    {
     "data": {
      "text/plain": [
       "<matplotlib.axes._subplots.AxesSubplot at 0x1e58ffff8d0>"
      ]
     },
     "execution_count": 6,
     "metadata": {},
     "output_type": "execute_result"
    },
    {
     "data": {
      "image/png": "[encoded data removed]",
      "text/plain": [
       "<matplotlib.figure.Figure at 0x1e59017ff60>"
      ]
     },
     "metadata": {},
     "output_type": "display_data"
    }
   ],
   "source": [
    "soccer_data['bet_status'].value_counts().plot(kind='bar',title = 'Result Count')"
   ]
  },
  {
   "cell_type": "code",
   "execution_count": 7,
   "metadata": {
    "collapsed": false
   },
   "outputs": [
    {
     "data": {
      "text/plain": [
       "0.27979274611398963"
      ]
     },
     "execution_count": 7,
     "metadata": {},
     "output_type": "execute_result"
    }
   ],
   "source": [
    "# win rate\n",
    "\n",
    "lose = soccer_data['bet_status'].value_counts()[0]\n",
    "win = soccer_data['bet_status'].value_counts()[1]\n",
    "cashed_out = soccer_data['bet_status'].value_counts()[2]\n",
    "total_bet_count = lose + win + cashed_out\n",
    "float(win) / total_bet_count"
   ]
  },
  {
   "cell_type": "code",
   "execution_count": 8,
   "metadata": {
    "collapsed": false
   },
   "outputs": [
    {
     "data": {
      "text/html": [
       "<div>\n",
       "<table border=\"1\" class=\"dataframe\">\n",
       "  <thead>\n",
       "    <tr style=\"text-align: right;\">\n",
       "      <th></th>\n",
       "      <th>bet_status</th>\n",
       "      <th>date_placed</th>\n",
       "      <th>type</th>\n",
       "      <th>bet_details</th>\n",
       "      <th>odds</th>\n",
       "      <th>stake</th>\n",
       "      <th>return</th>\n",
       "      <th>bet_type</th>\n",
       "    </tr>\n",
       "  </thead>\n",
       "  <tbody>\n",
       "    <tr>\n",
       "      <th>380</th>\n",
       "      <td>Lose</td>\n",
       "      <td>25/09/2015 16:33</td>\n",
       "      <td>Soccer</td>\n",
       "      <td>Multibet (5 folds)</td>\n",
       "      <td>9.88</td>\n",
       "      <td>5.0</td>\n",
       "      <td>0.00</td>\n",
       "      <td>Multibet</td>\n",
       "    </tr>\n",
       "    <tr>\n",
       "      <th>364</th>\n",
       "      <td>Cashed Out</td>\n",
       "      <td>16/10/2015 17:35</td>\n",
       "      <td>Soccer</td>\n",
       "      <td>Multibet (8 folds)</td>\n",
       "      <td>9.58</td>\n",
       "      <td>2.5</td>\n",
       "      <td>14.53</td>\n",
       "      <td>Multibet</td>\n",
       "    </tr>\n",
       "    <tr>\n",
       "      <th>314</th>\n",
       "      <td>Win</td>\n",
       "      <td>23/02/2016 17:16</td>\n",
       "      <td>Soccer</td>\n",
       "      <td>Arsenal v Barcelona / Correct Score / Barcelon...</td>\n",
       "      <td>9.5</td>\n",
       "      <td>2.0</td>\n",
       "      <td>19.00</td>\n",
       "      <td>Single</td>\n",
       "    </tr>\n",
       "    <tr>\n",
       "      <th>60</th>\n",
       "      <td>Lose</td>\n",
       "      <td>2/11/2016 17:34</td>\n",
       "      <td>Soccer</td>\n",
       "      <td>Legia Warsaw v Real Madrid / Correct Score / R...</td>\n",
       "      <td>9.5</td>\n",
       "      <td>1.0</td>\n",
       "      <td>0.00</td>\n",
       "      <td>Single</td>\n",
       "    </tr>\n",
       "    <tr>\n",
       "      <th>420</th>\n",
       "      <td>Lose</td>\n",
       "      <td>21/01/2015 17:38</td>\n",
       "      <td>Soccer</td>\n",
       "      <td>Multibet (6 folds)</td>\n",
       "      <td>9.39</td>\n",
       "      <td>3.0</td>\n",
       "      <td>0.00</td>\n",
       "      <td>Multibet</td>\n",
       "    </tr>\n",
       "  </tbody>\n",
       "</table>\n",
       "</div>"
      ],
      "text/plain": [
       "     bet_status       date_placed    type  \\\n",
       "380        Lose  25/09/2015 16:33  Soccer   \n",
       "364  Cashed Out  16/10/2015 17:35  Soccer   \n",
       "314         Win  23/02/2016 17:16  Soccer   \n",
       "60         Lose   2/11/2016 17:34  Soccer   \n",
       "420        Lose  21/01/2015 17:38  Soccer   \n",
       "\n",
       "                                           bet_details  odds  stake  return  \\\n",
       "380                                 Multibet (5 folds)  9.88    5.0    0.00   \n",
       "364                                 Multibet (8 folds)  9.58    2.5   14.53   \n",
       "314  Arsenal v Barcelona / Correct Score / Barcelon...   9.5    2.0   19.00   \n",
       "60   Legia Warsaw v Real Madrid / Correct Score / R...   9.5    1.0    0.00   \n",
       "420                                 Multibet (6 folds)  9.39    3.0    0.00   \n",
       "\n",
       "     bet_type  \n",
       "380  Multibet  \n",
       "364  Multibet  \n",
       "314    Single  \n",
       "60     Single  \n",
       "420  Multibet  "
      ]
     },
     "execution_count": 8,
     "metadata": {},
     "output_type": "execute_result"
    }
   ],
   "source": [
    "soccer_data.sort_values(by='odds', ascending=False)[:5]\n",
    "# soccer_data.sort_values(by='STAKE', ascending=False)[:5]"
   ]
  },
  {
   "cell_type": "code",
   "execution_count": 9,
   "metadata": {
    "collapsed": false
   },
   "outputs": [
    {
     "data": {
      "text/html": [
       "<div>\n",
       "<table border=\"1\" class=\"dataframe\">\n",
       "  <thead>\n",
       "    <tr style=\"text-align: right;\">\n",
       "      <th></th>\n",
       "      <th>bet_status</th>\n",
       "      <th>date_placed</th>\n",
       "      <th>type</th>\n",
       "      <th>bet_details</th>\n",
       "      <th>odds</th>\n",
       "      <th>stake</th>\n",
       "      <th>return</th>\n",
       "      <th>bet_type</th>\n",
       "    </tr>\n",
       "  </thead>\n",
       "  <tbody>\n",
       "    <tr>\n",
       "      <th>2</th>\n",
       "      <td>Lose</td>\n",
       "      <td>24/11/2016 17:31</td>\n",
       "      <td>Soccer</td>\n",
       "      <td>Celta Vigo v Standard Liege / Win-Draw-Win / C...</td>\n",
       "      <td>1.61</td>\n",
       "      <td>3.0</td>\n",
       "      <td>0.0</td>\n",
       "      <td>Single</td>\n",
       "    </tr>\n",
       "    <tr>\n",
       "      <th>123</th>\n",
       "      <td>Lose</td>\n",
       "      <td>7/10/2016 17:35</td>\n",
       "      <td>Soccer</td>\n",
       "      <td>Latvia v Faroe Islands / Win-Draw-Win / Latvia...</td>\n",
       "      <td>1.53</td>\n",
       "      <td>2.0</td>\n",
       "      <td>0.0</td>\n",
       "      <td>Single</td>\n",
       "    </tr>\n",
       "    <tr>\n",
       "      <th>271</th>\n",
       "      <td>Lose</td>\n",
       "      <td>15/04/2016 17:36</td>\n",
       "      <td>Soccer</td>\n",
       "      <td>West Brom v Watford / Win-Draw-Win / Draw @ 3.10</td>\n",
       "      <td>3.1</td>\n",
       "      <td>5.0</td>\n",
       "      <td>0.0</td>\n",
       "      <td>Single</td>\n",
       "    </tr>\n",
       "    <tr>\n",
       "      <th>60</th>\n",
       "      <td>Lose</td>\n",
       "      <td>2/11/2016 17:34</td>\n",
       "      <td>Soccer</td>\n",
       "      <td>Legia Warsaw v Real Madrid / Correct Score / R...</td>\n",
       "      <td>9.5</td>\n",
       "      <td>1.0</td>\n",
       "      <td>0.0</td>\n",
       "      <td>Single</td>\n",
       "    </tr>\n",
       "    <tr>\n",
       "      <th>61</th>\n",
       "      <td>Lose</td>\n",
       "      <td>2/11/2016 17:34</td>\n",
       "      <td>Soccer</td>\n",
       "      <td>Legia Warsaw v Real Madrid / Number of Team Go...</td>\n",
       "      <td>1.83</td>\n",
       "      <td>5.0</td>\n",
       "      <td>0.0</td>\n",
       "      <td>Single</td>\n",
       "    </tr>\n",
       "  </tbody>\n",
       "</table>\n",
       "</div>"
      ],
      "text/plain": [
       "    bet_status       date_placed    type  \\\n",
       "2         Lose  24/11/2016 17:31  Soccer   \n",
       "123       Lose   7/10/2016 17:35  Soccer   \n",
       "271       Lose  15/04/2016 17:36  Soccer   \n",
       "60        Lose   2/11/2016 17:34  Soccer   \n",
       "61        Lose   2/11/2016 17:34  Soccer   \n",
       "\n",
       "                                           bet_details  odds  stake  return  \\\n",
       "2    Celta Vigo v Standard Liege / Win-Draw-Win / C...  1.61    3.0     0.0   \n",
       "123  Latvia v Faroe Islands / Win-Draw-Win / Latvia...  1.53    2.0     0.0   \n",
       "271   West Brom v Watford / Win-Draw-Win / Draw @ 3.10   3.1    5.0     0.0   \n",
       "60   Legia Warsaw v Real Madrid / Correct Score / R...   9.5    1.0     0.0   \n",
       "61   Legia Warsaw v Real Madrid / Number of Team Go...  1.83    5.0     0.0   \n",
       "\n",
       "    bet_type  \n",
       "2     Single  \n",
       "123   Single  \n",
       "271   Single  \n",
       "60    Single  \n",
       "61    Single  "
      ]
     },
     "execution_count": 9,
     "metadata": {},
     "output_type": "execute_result"
    }
   ],
   "source": [
    "soccer_data.sample(n=5)"
   ]
  },
  {
   "cell_type": "code",
   "execution_count": 10,
   "metadata": {
    "collapsed": false
   },
   "outputs": [
    {
     "data": {
      "text/plain": [
       "<matplotlib.axes._subplots.AxesSubplot at 0x1e590444240>"
      ]
     },
     "execution_count": 10,
     "metadata": {},
     "output_type": "execute_result"
    },
    {
     "data": {
      "image/png": "[encoded data removed]",
      "text/plain": [
       "<matplotlib.figure.Figure at 0x1e590917470>"
      ]
     },
     "metadata": {},
     "output_type": "display_data"
    }
   ],
   "source": [
    "group_by_multi = soccer_data.groupby(['bet_type', 'bet_status'])\n",
    "result_by_type = group_by_multi.size().unstack()\n",
    "result_by_type.plot(kind='barh', stacked=True, figsize=[16,3], colormap = 'winter', title = 'Result by bet type')"
   ]
  },
  {
   "cell_type": "code",
   "execution_count": 11,
   "metadata": {
    "collapsed": false
   },
   "outputs": [
    {
     "data": {
      "text/html": [
       "<div>\n",
       "<table border=\"1\" class=\"dataframe\">\n",
       "  <thead>\n",
       "    <tr style=\"text-align: right;\">\n",
       "      <th>bet_status</th>\n",
       "      <th>Cashed Out</th>\n",
       "      <th>Lose</th>\n",
       "      <th>Win</th>\n",
       "    </tr>\n",
       "    <tr>\n",
       "      <th>bet_type</th>\n",
       "      <th></th>\n",
       "      <th></th>\n",
       "      <th></th>\n",
       "    </tr>\n",
       "  </thead>\n",
       "  <tbody>\n",
       "    <tr>\n",
       "      <th>Handicap</th>\n",
       "      <td>NaN</td>\n",
       "      <td>4.00</td>\n",
       "      <td>10.0</td>\n",
       "    </tr>\n",
       "    <tr>\n",
       "      <th>Multibet</th>\n",
       "      <td>12.5</td>\n",
       "      <td>475.36</td>\n",
       "      <td>102.5</td>\n",
       "    </tr>\n",
       "    <tr>\n",
       "      <th>Single</th>\n",
       "      <td>13.0</td>\n",
       "      <td>547.29</td>\n",
       "      <td>310.0</td>\n",
       "    </tr>\n",
       "  </tbody>\n",
       "</table>\n",
       "</div>"
      ],
      "text/plain": [
       "bet_status  Cashed Out    Lose    Win\n",
       "bet_type                             \n",
       "Handicap           NaN    4.00   10.0\n",
       "Multibet          12.5  475.36  102.5\n",
       "Single            13.0  547.29  310.0"
      ]
     },
     "execution_count": 11,
     "metadata": {},
     "output_type": "execute_result"
    }
   ],
   "source": [
    "return_by_bet_type = soccer_data.pivot_table(index='bet_type', columns='bet_status', values='stake', aggfunc='sum')\n",
    "return_by_bet_type.head()"
   ]
  },
  {
   "cell_type": "code",
   "execution_count": 12,
   "metadata": {
    "collapsed": false
   },
   "outputs": [
    {
     "data": {
      "text/plain": [
       "<matplotlib.axes._subplots.AxesSubplot at 0x1e5909478d0>"
      ]
     },
     "execution_count": 12,
     "metadata": {},
     "output_type": "execute_result"
    },
    {
     "data": {
      "image/png": "[encoded data removed]",
      "text/plain": [
       "<matplotlib.figure.Figure at 0x1e590931b70>"
      ]
     },
     "metadata": {},
     "output_type": "display_data"
    }
   ],
   "source": [
    "return_by_bet_type.plot(kind='area', stacked=True, figsize=[16,3])"
   ]
  },
  {
   "cell_type": "code",
   "execution_count": 13,
   "metadata": {
    "collapsed": false
   },
   "outputs": [
    {
     "data": {
      "text/html": [
       "<div>\n",
       "<table border=\"1\" class=\"dataframe\">\n",
       "  <thead>\n",
       "    <tr style=\"text-align: right;\">\n",
       "      <th>bet_status</th>\n",
       "      <th>bet_type</th>\n",
       "      <th>Cashed Out</th>\n",
       "      <th>Lose</th>\n",
       "      <th>Win</th>\n",
       "    </tr>\n",
       "  </thead>\n",
       "  <tbody>\n",
       "    <tr>\n",
       "      <th>0</th>\n",
       "      <td>Handicap</td>\n",
       "      <td>NaN</td>\n",
       "      <td>1.0</td>\n",
       "      <td>2.0</td>\n",
       "    </tr>\n",
       "    <tr>\n",
       "      <th>1</th>\n",
       "      <td>Multibet</td>\n",
       "      <td>3.0</td>\n",
       "      <td>112.0</td>\n",
       "      <td>22.0</td>\n",
       "    </tr>\n",
       "    <tr>\n",
       "      <th>2</th>\n",
       "      <td>Single</td>\n",
       "      <td>4.0</td>\n",
       "      <td>158.0</td>\n",
       "      <td>84.0</td>\n",
       "    </tr>\n",
       "  </tbody>\n",
       "</table>\n",
       "</div>"
      ],
      "text/plain": [
       "bet_status  bet_type  Cashed Out   Lose   Win\n",
       "0           Handicap         NaN    1.0   2.0\n",
       "1           Multibet         3.0  112.0  22.0\n",
       "2             Single         4.0  158.0  84.0"
      ]
     },
     "execution_count": 13,
     "metadata": {},
     "output_type": "execute_result"
    }
   ],
   "source": [
    "result_by_type = result_by_type.reset_index()\n",
    "result_by_type[:5]"
   ]
  },
  {
   "cell_type": "code",
   "execution_count": 14,
   "metadata": {
    "collapsed": false
   },
   "outputs": [
    {
     "data": {
      "text/html": [
       "<div>\n",
       "<table border=\"1\" class=\"dataframe\">\n",
       "  <thead>\n",
       "    <tr style=\"text-align: right;\">\n",
       "      <th>bet_status</th>\n",
       "      <th>bet_type</th>\n",
       "      <th>Cashed Out</th>\n",
       "      <th>Lose</th>\n",
       "      <th>Win</th>\n",
       "      <th>win_rate</th>\n",
       "    </tr>\n",
       "  </thead>\n",
       "  <tbody>\n",
       "    <tr>\n",
       "      <th>0</th>\n",
       "      <td>Handicap</td>\n",
       "      <td>NaN</td>\n",
       "      <td>1.0</td>\n",
       "      <td>2.0</td>\n",
       "      <td>0.666667</td>\n",
       "    </tr>\n",
       "    <tr>\n",
       "      <th>1</th>\n",
       "      <td>Multibet</td>\n",
       "      <td>3.0</td>\n",
       "      <td>112.0</td>\n",
       "      <td>22.0</td>\n",
       "      <td>0.164179</td>\n",
       "    </tr>\n",
       "    <tr>\n",
       "      <th>2</th>\n",
       "      <td>Single</td>\n",
       "      <td>4.0</td>\n",
       "      <td>158.0</td>\n",
       "      <td>84.0</td>\n",
       "      <td>0.347107</td>\n",
       "    </tr>\n",
       "  </tbody>\n",
       "</table>\n",
       "</div>"
      ],
      "text/plain": [
       "bet_status  bet_type  Cashed Out   Lose   Win  win_rate\n",
       "0           Handicap         NaN    1.0   2.0  0.666667\n",
       "1           Multibet         3.0  112.0  22.0  0.164179\n",
       "2             Single         4.0  158.0  84.0  0.347107"
      ]
     },
     "execution_count": 14,
     "metadata": {},
     "output_type": "execute_result"
    }
   ],
   "source": [
    "result_by_type['win_rate'] = result_by_type['Win'] / (result_by_type['Win'] + result_by_type['Lose'])\n",
    "result_by_type[:5]"
   ]
  },
  {
   "cell_type": "code",
   "execution_count": 15,
   "metadata": {
    "collapsed": false
   },
   "outputs": [
    {
     "name": "stderr",
     "output_type": "stream",
     "text": [
      "C:\\Users\\Rohan\\Anaconda3\\lib\\site-packages\\ipykernel\\__main__.py:2: SettingWithCopyWarning: \n",
      "A value is trying to be set on a copy of a slice from a DataFrame.\n",
      "Try using .loc[row_indexer,col_indexer] = value instead\n",
      "\n",
      "See the caveats in the documentation: http://pandas.pydata.org/pandas-docs/stable/indexing.html#indexing-view-versus-copy\n",
      "  from ipykernel import kernelapp as app\n"
     ]
    },
    {
     "data": {
      "text/html": [
       "<div>\n",
       "<table border=\"1\" class=\"dataframe\">\n",
       "  <thead>\n",
       "    <tr style=\"text-align: right;\">\n",
       "      <th></th>\n",
       "      <th>bet_status</th>\n",
       "      <th>date_placed</th>\n",
       "      <th>type</th>\n",
       "      <th>bet_details</th>\n",
       "      <th>odds</th>\n",
       "      <th>stake</th>\n",
       "      <th>return</th>\n",
       "      <th>bet_type</th>\n",
       "      <th>net_return</th>\n",
       "    </tr>\n",
       "  </thead>\n",
       "  <tbody>\n",
       "    <tr>\n",
       "      <th>0</th>\n",
       "      <td>Win</td>\n",
       "      <td>24/11/2016 17:32</td>\n",
       "      <td>Soccer</td>\n",
       "      <td>Multibet (Trebles)</td>\n",
       "      <td>2.54</td>\n",
       "      <td>3.0</td>\n",
       "      <td>7.64</td>\n",
       "      <td>Multibet</td>\n",
       "      <td>4.64</td>\n",
       "    </tr>\n",
       "    <tr>\n",
       "      <th>1</th>\n",
       "      <td>Win</td>\n",
       "      <td>24/11/2016 17:31</td>\n",
       "      <td>Soccer</td>\n",
       "      <td>Ajax v Panathinaikos / Win-Draw-Win / Ajax @ 1.73</td>\n",
       "      <td>1.73</td>\n",
       "      <td>3.0</td>\n",
       "      <td>5.19</td>\n",
       "      <td>Single</td>\n",
       "      <td>2.19</td>\n",
       "    </tr>\n",
       "    <tr>\n",
       "      <th>2</th>\n",
       "      <td>Lose</td>\n",
       "      <td>24/11/2016 17:31</td>\n",
       "      <td>Soccer</td>\n",
       "      <td>Celta Vigo v Standard Liege / Win-Draw-Win / C...</td>\n",
       "      <td>1.61</td>\n",
       "      <td>3.0</td>\n",
       "      <td>0.00</td>\n",
       "      <td>Single</td>\n",
       "      <td>-3.00</td>\n",
       "    </tr>\n",
       "    <tr>\n",
       "      <th>3</th>\n",
       "      <td>Lose</td>\n",
       "      <td>24/11/2016 17:31</td>\n",
       "      <td>Soccer</td>\n",
       "      <td>Schalke 04 v Nice / Win-Draw-Win / Draw @ 3.50</td>\n",
       "      <td>3.5</td>\n",
       "      <td>3.0</td>\n",
       "      <td>0.00</td>\n",
       "      <td>Single</td>\n",
       "      <td>-3.00</td>\n",
       "    </tr>\n",
       "    <tr>\n",
       "      <th>4</th>\n",
       "      <td>Lose</td>\n",
       "      <td>24/11/2016 17:31</td>\n",
       "      <td>Soccer</td>\n",
       "      <td>Fiorentina v PAOK / Win-Draw-Win / Fiorentina ...</td>\n",
       "      <td>1.61</td>\n",
       "      <td>3.0</td>\n",
       "      <td>0.00</td>\n",
       "      <td>Single</td>\n",
       "      <td>-3.00</td>\n",
       "    </tr>\n",
       "  </tbody>\n",
       "</table>\n",
       "</div>"
      ],
      "text/plain": [
       "  bet_status       date_placed    type  \\\n",
       "0        Win  24/11/2016 17:32  Soccer   \n",
       "1        Win  24/11/2016 17:31  Soccer   \n",
       "2       Lose  24/11/2016 17:31  Soccer   \n",
       "3       Lose  24/11/2016 17:31  Soccer   \n",
       "4       Lose  24/11/2016 17:31  Soccer   \n",
       "\n",
       "                                         bet_details  odds  stake  return  \\\n",
       "0                                 Multibet (Trebles)  2.54    3.0    7.64   \n",
       "1  Ajax v Panathinaikos / Win-Draw-Win / Ajax @ 1.73  1.73    3.0    5.19   \n",
       "2  Celta Vigo v Standard Liege / Win-Draw-Win / C...  1.61    3.0    0.00   \n",
       "3     Schalke 04 v Nice / Win-Draw-Win / Draw @ 3.50   3.5    3.0    0.00   \n",
       "4  Fiorentina v PAOK / Win-Draw-Win / Fiorentina ...  1.61    3.0    0.00   \n",
       "\n",
       "   bet_type  net_return  \n",
       "0  Multibet        4.64  \n",
       "1    Single        2.19  \n",
       "2    Single       -3.00  \n",
       "3    Single       -3.00  \n",
       "4    Single       -3.00  "
      ]
     },
     "execution_count": 15,
     "metadata": {},
     "output_type": "execute_result"
    }
   ],
   "source": [
    "# issues with .loc net_return = soccer_data['stake'] - soccer_data['return']\n",
    "soccer_data['net_return'] = soccer_data['return'] - soccer_data['stake']\n",
    "soccer_data[:5]"
   ]
  },
  {
   "cell_type": "code",
   "execution_count": 16,
   "metadata": {
    "collapsed": true
   },
   "outputs": [],
   "source": [
    "#stacked bar of wins and losses by month"
   ]
  },
  {
   "cell_type": "code",
   "execution_count": 17,
   "metadata": {
    "collapsed": false
   },
   "outputs": [
    {
     "data": {
      "text/html": [
       "<div>\n",
       "<table border=\"1\" class=\"dataframe\">\n",
       "  <thead>\n",
       "    <tr style=\"text-align: right;\">\n",
       "      <th></th>\n",
       "      <th>bet_status</th>\n",
       "      <th>date_placed</th>\n",
       "      <th>type</th>\n",
       "      <th>bet_details</th>\n",
       "      <th>odds</th>\n",
       "      <th>stake</th>\n",
       "      <th>return</th>\n",
       "      <th>bet_type</th>\n",
       "      <th>net_return</th>\n",
       "    </tr>\n",
       "  </thead>\n",
       "  <tbody>\n",
       "    <tr>\n",
       "      <th>341</th>\n",
       "      <td>Lose</td>\n",
       "      <td>20/11/2015 17:30</td>\n",
       "      <td>Soccer</td>\n",
       "      <td>Multibet (Trebles)</td>\n",
       "      <td>4.58</td>\n",
       "      <td>5.0</td>\n",
       "      <td>0.00</td>\n",
       "      <td>Multibet</td>\n",
       "      <td>-5.00</td>\n",
       "    </tr>\n",
       "    <tr>\n",
       "      <th>195</th>\n",
       "      <td>Lose</td>\n",
       "      <td>5/09/2016 16:09</td>\n",
       "      <td>Soccer</td>\n",
       "      <td>Multibet (Trebles)</td>\n",
       "      <td>3.13</td>\n",
       "      <td>5.0</td>\n",
       "      <td>0.00</td>\n",
       "      <td>Multibet</td>\n",
       "      <td>-5.00</td>\n",
       "    </tr>\n",
       "    <tr>\n",
       "      <th>254</th>\n",
       "      <td>Win</td>\n",
       "      <td>29/04/2016 16:33</td>\n",
       "      <td>Soccer</td>\n",
       "      <td>Stoke v Sunderland / Win-Draw-Win / Draw @ 3.30</td>\n",
       "      <td>3.3</td>\n",
       "      <td>5.0</td>\n",
       "      <td>16.50</td>\n",
       "      <td>Single</td>\n",
       "      <td>11.50</td>\n",
       "    </tr>\n",
       "    <tr>\n",
       "      <th>53</th>\n",
       "      <td>Win</td>\n",
       "      <td>3/11/2016 17:27</td>\n",
       "      <td>Soccer</td>\n",
       "      <td>FK Gabala v Saint-Etienne / Win-Draw-Win / Sai...</td>\n",
       "      <td>1.8</td>\n",
       "      <td>3.5</td>\n",
       "      <td>6.30</td>\n",
       "      <td>Single</td>\n",
       "      <td>2.80</td>\n",
       "    </tr>\n",
       "    <tr>\n",
       "      <th>0</th>\n",
       "      <td>Win</td>\n",
       "      <td>24/11/2016 17:32</td>\n",
       "      <td>Soccer</td>\n",
       "      <td>Multibet (Trebles)</td>\n",
       "      <td>2.54</td>\n",
       "      <td>3.0</td>\n",
       "      <td>7.64</td>\n",
       "      <td>Multibet</td>\n",
       "      <td>4.64</td>\n",
       "    </tr>\n",
       "  </tbody>\n",
       "</table>\n",
       "</div>"
      ],
      "text/plain": [
       "    bet_status       date_placed    type  \\\n",
       "341       Lose  20/11/2015 17:30  Soccer   \n",
       "195       Lose   5/09/2016 16:09  Soccer   \n",
       "254        Win  29/04/2016 16:33  Soccer   \n",
       "53         Win   3/11/2016 17:27  Soccer   \n",
       "0          Win  24/11/2016 17:32  Soccer   \n",
       "\n",
       "                                           bet_details  odds  stake  return  \\\n",
       "341                                 Multibet (Trebles)  4.58    5.0    0.00   \n",
       "195                                 Multibet (Trebles)  3.13    5.0    0.00   \n",
       "254    Stoke v Sunderland / Win-Draw-Win / Draw @ 3.30   3.3    5.0   16.50   \n",
       "53   FK Gabala v Saint-Etienne / Win-Draw-Win / Sai...   1.8    3.5    6.30   \n",
       "0                                   Multibet (Trebles)  2.54    3.0    7.64   \n",
       "\n",
       "     bet_type  net_return  \n",
       "341  Multibet       -5.00  \n",
       "195  Multibet       -5.00  \n",
       "254    Single       11.50  \n",
       "53     Single        2.80  \n",
       "0    Multibet        4.64  "
      ]
     },
     "execution_count": 17,
     "metadata": {},
     "output_type": "execute_result"
    }
   ],
   "source": [
    "soccer_data.sample(n=5)"
   ]
  },
  {
   "cell_type": "code",
   "execution_count": 18,
   "metadata": {
    "collapsed": false
   },
   "outputs": [
    {
     "data": {
      "text/plain": [
       "<matplotlib.axes._subplots.AxesSubplot at 0x1e5901d9eb8>"
      ]
     },
     "execution_count": 18,
     "metadata": {},
     "output_type": "execute_result"
    },
    {
     "data": {
      "image/png": "[encoded data removed]",
      "text/plain": [
       "<matplotlib.figure.Figure at 0x1e590435c18>"
      ]
     },
     "metadata": {},
     "output_type": "display_data"
    }
   ],
   "source": [
    "net_return_by_bet_type = soccer_data.pivot_table(index='bet_type', columns= 'bet_status', values='net_return', aggfunc='sum')\n",
    "net_return_by_bet_type.head()\n",
    "net_return_by_bet_type.plot(kind='bar', stacked=True, title='Returns by bet type')"
   ]
  },
  {
   "cell_type": "code",
   "execution_count": 19,
   "metadata": {
    "collapsed": false
   },
   "outputs": [
    {
     "data": {
      "text/plain": [
       "<matplotlib.axes._subplots.AxesSubplot at 0x1e58ffca828>"
      ]
     },
     "execution_count": 19,
     "metadata": {},
     "output_type": "execute_result"
    },
    {
     "data": {
      "image/png": "[encoded data removed]",
      "text/plain": [
       "<matplotlib.figure.Figure at 0x1e591a629e8>"
      ]
     },
     "metadata": {},
     "output_type": "display_data"
    }
   ],
   "source": [
    "net_returns_by_stake = soccer_data.pivot_table(index='stake',columns='bet_status', values='net_return', aggfunc='sum')\n",
    "net_returns_by_stake.head()\n",
    "net_returns_by_stake.plot(kind='bar', stacked=True)"
   ]
  },
  {
   "cell_type": "code",
   "execution_count": 20,
   "metadata": {
    "collapsed": false
   },
   "outputs": [
    {
     "data": {
      "text/plain": [
       "<matplotlib.axes._subplots.AxesSubplot at 0x1e591d48dd8>"
      ]
     },
     "execution_count": 20,
     "metadata": {},
     "output_type": "execute_result"
    },
    {
     "data": {
      "image/png": "[encoded data removed]",
      "text/plain": [
       "<matplotlib.figure.Figure at 0x1e591aee7b8>"
      ]
     },
     "metadata": {},
     "output_type": "display_data"
    }
   ],
   "source": [
    "net_return_by_stake = soccer_data.pivot_table(index='stake', values='net_return', aggfunc='sum')\n",
    "net_return_by_stake.plot(kind='bar')"
   ]
  },
  {
   "cell_type": "code",
   "execution_count": 21,
   "metadata": {
    "collapsed": false
   },
   "outputs": [
    {
     "data": {
      "text/plain": [
       "<matplotlib.axes._subplots.AxesSubplot at 0x1e591d8f9b0>"
      ]
     },
     "execution_count": 21,
     "metadata": {},
     "output_type": "execute_result"
    },
    {
     "data": {
      "image/png": "[encoded data removed]",
      "text/plain": [
       "<matplotlib.figure.Figure at 0x1e591de7400>"
      ]
     },
     "metadata": {},
     "output_type": "display_data"
    }
   ],
   "source": [
    "bet_count_by_stake = soccer_data.pivot_table(index='stake', values='net_return', aggfunc='count')\n",
    "bet_count_by_stake.plot(kind='bar')"
   ]
  },
  {
   "cell_type": "code",
   "execution_count": 22,
   "metadata": {
    "collapsed": false
   },
   "outputs": [
    {
     "data": {
      "text/plain": [
       "count    386.000000\n",
       "mean      -0.784560\n",
       "std        5.835099\n",
       "min      -10.000000\n",
       "25%       -5.000000\n",
       "50%       -3.000000\n",
       "75%        1.960000\n",
       "max       34.020000\n",
       "Name: net_return, dtype: float64"
      ]
     },
     "execution_count": 22,
     "metadata": {},
     "output_type": "execute_result"
    }
   ],
   "source": [
    "soccer_data['net_return'].describe()"
   ]
  },
  {
   "cell_type": "code",
   "execution_count": 23,
   "metadata": {
    "collapsed": false
   },
   "outputs": [
    {
     "data": {
      "text/plain": [
       "<matplotlib.axes._subplots.AxesSubplot at 0x1e591d624a8>"
      ]
     },
     "execution_count": 23,
     "metadata": {},
     "output_type": "execute_result"
    },
    {
     "data": {
      "image/png": "[encoded data removed]",
      "text/plain": [
       "<matplotlib.figure.Figure at 0x1e591e68390>"
      ]
     },
     "metadata": {},
     "output_type": "display_data"
    }
   ],
   "source": [
    "bin_values = np.arange(start=-10, stop=35, step=5)\n",
    "soccer_data['net_return'].hist(bins=bin_values)"
   ]
  },
  {
   "cell_type": "code",
   "execution_count": 24,
   "metadata": {
    "collapsed": false
   },
   "outputs": [
    {
     "data": {
      "text/plain": [
       "bet_type\n",
       "Handicap    Axes(0.125,0.125;0.775x0.775)\n",
       "Multibet    Axes(0.125,0.125;0.775x0.775)\n",
       "Single      Axes(0.125,0.125;0.775x0.775)\n",
       "Name: net_return, dtype: object"
      ]
     },
     "execution_count": 24,
     "metadata": {},
     "output_type": "execute_result"
    },
    {
     "data": {
      "image/png": "[encoded data removed]",
      "text/plain": [
       "<matplotlib.figure.Figure at 0x1e591eba5f8>"
      ]
     },
     "metadata": {},
     "output_type": "display_data"
    }
   ],
   "source": [
    "stacked = soccer_data.groupby('bet_type')['net_return']\n",
    "# stacked.describe()\n",
    "stacked.plot(kind='hist', bins=bin_values, alpha=.2, colormap='winter', legend=True)"
   ]
  },
  {
   "cell_type": "code",
   "execution_count": 25,
   "metadata": {
    "collapsed": false
   },
   "outputs": [
    {
     "data": {
      "text/plain": [
       "<matplotlib.axes._subplots.AxesSubplot at 0x1e591ec4e10>"
      ]
     },
     "execution_count": 25,
     "metadata": {},
     "output_type": "execute_result"
    },
    {
     "data": {
      "image/png": "[encoded data removed]",
      "text/plain": [
       "<matplotlib.figure.Figure at 0x1e592137b00>"
      ]
     },
     "metadata": {},
     "output_type": "display_data"
    }
   ],
   "source": [
    "df_bet_type = soccer_data.pivot_table(index='date_placed', columns='bet_type', values='net_return')\n",
    "df_bet_type.plot(kind='box')"
   ]
  },
  {
   "cell_type": "code",
   "execution_count": 26,
   "metadata": {
    "collapsed": false
   },
   "outputs": [
    {
     "data": {
      "text/plain": [
       "bet_type\n",
       "Handicap    Axes(0.125,0.125;0.775x0.775)\n",
       "Multibet    Axes(0.125,0.125;0.775x0.775)\n",
       "Single      Axes(0.125,0.125;0.775x0.775)\n",
       "Name: net_return, dtype: object"
      ]
     },
     "execution_count": 26,
     "metadata": {},
     "output_type": "execute_result"
    },
    {
     "data": {
      "image/png": "[encoded data removed]",
      "text/plain": [
       "<matplotlib.figure.Figure at 0x1e592241128>"
      ]
     },
     "metadata": {},
     "output_type": "display_data"
    }
   ],
   "source": [
    "stacked.plot(kind='box')"
   ]
  },
  {
   "cell_type": "code",
   "execution_count": 27,
   "metadata": {
    "collapsed": false
   },
   "outputs": [
    {
     "name": "stderr",
     "output_type": "stream",
     "text": [
      "C:\\Users\\Rohan\\Anaconda3\\lib\\site-packages\\ipykernel\\__main__.py:2: SettingWithCopyWarning: \n",
      "A value is trying to be set on a copy of a slice from a DataFrame.\n",
      "Try using .loc[row_indexer,col_indexer] = value instead\n",
      "\n",
      "See the caveats in the documentation: http://pandas.pydata.org/pandas-docs/stable/indexing.html#indexing-view-versus-copy\n",
      "  from ipykernel import kernelapp as app\n",
      "C:\\Users\\Rohan\\Anaconda3\\lib\\site-packages\\ipykernel\\__main__.py:5: SettingWithCopyWarning: \n",
      "A value is trying to be set on a copy of a slice from a DataFrame.\n",
      "Try using .loc[row_indexer,col_indexer] = value instead\n",
      "\n",
      "See the caveats in the documentation: http://pandas.pydata.org/pandas-docs/stable/indexing.html#indexing-view-versus-copy\n"
     ]
    },
    {
     "data": {
      "text/html": [
       "<div>\n",
       "<table border=\"1\" class=\"dataframe\">\n",
       "  <thead>\n",
       "    <tr style=\"text-align: right;\">\n",
       "      <th></th>\n",
       "      <th>bet_status</th>\n",
       "      <th>date_placed</th>\n",
       "      <th>type</th>\n",
       "      <th>bet_details</th>\n",
       "      <th>odds</th>\n",
       "      <th>stake</th>\n",
       "      <th>return</th>\n",
       "      <th>bet_type</th>\n",
       "      <th>net_return</th>\n",
       "      <th>cum_return</th>\n",
       "    </tr>\n",
       "  </thead>\n",
       "  <tbody>\n",
       "    <tr>\n",
       "      <th>7</th>\n",
       "      <td>Lose</td>\n",
       "      <td>2016-11-24 17:31:00</td>\n",
       "      <td>Soccer</td>\n",
       "      <td>Man Utd v Feyenoord / Win-Draw-Win / Draw @ 5.00</td>\n",
       "      <td>5</td>\n",
       "      <td>3.0</td>\n",
       "      <td>0.00</td>\n",
       "      <td>Single</td>\n",
       "      <td>-3.00</td>\n",
       "      <td>-11.17</td>\n",
       "    </tr>\n",
       "    <tr>\n",
       "      <th>101</th>\n",
       "      <td>Win</td>\n",
       "      <td>2016-10-19 18:01:00</td>\n",
       "      <td>Soccer</td>\n",
       "      <td>FK Rostov v Atletico Madrid / Anytime Goalscor...</td>\n",
       "      <td>3.25</td>\n",
       "      <td>1.0</td>\n",
       "      <td>3.25</td>\n",
       "      <td>Single</td>\n",
       "      <td>2.25</td>\n",
       "      <td>-36.31</td>\n",
       "    </tr>\n",
       "    <tr>\n",
       "      <th>236</th>\n",
       "      <td>Lose</td>\n",
       "      <td>2016-05-20 16:49:00</td>\n",
       "      <td>Soccer</td>\n",
       "      <td>Crystal Palace v Man Utd / Timecast / Man Utd ...</td>\n",
       "      <td>3.06</td>\n",
       "      <td>5.0</td>\n",
       "      <td>0.00</td>\n",
       "      <td>Single</td>\n",
       "      <td>-5.00</td>\n",
       "      <td>-101.84</td>\n",
       "    </tr>\n",
       "    <tr>\n",
       "      <th>212</th>\n",
       "      <td>Lose</td>\n",
       "      <td>2016-06-16 17:31:00</td>\n",
       "      <td>Soccer</td>\n",
       "      <td>Multibet (Doubles)</td>\n",
       "      <td>2.87</td>\n",
       "      <td>5.0</td>\n",
       "      <td>0.00</td>\n",
       "      <td>Multibet</td>\n",
       "      <td>-5.00</td>\n",
       "      <td>-110.31</td>\n",
       "    </tr>\n",
       "    <tr>\n",
       "      <th>125</th>\n",
       "      <td>Lose</td>\n",
       "      <td>2016-07-10 17:35:00</td>\n",
       "      <td>Soccer</td>\n",
       "      <td>Azerbaijan v Norway / Win-Draw-Win / Norway @ ...</td>\n",
       "      <td>1.83</td>\n",
       "      <td>2.0</td>\n",
       "      <td>0.00</td>\n",
       "      <td>Single</td>\n",
       "      <td>-2.00</td>\n",
       "      <td>-28.12</td>\n",
       "    </tr>\n",
       "  </tbody>\n",
       "</table>\n",
       "</div>"
      ],
      "text/plain": [
       "    bet_status         date_placed    type  \\\n",
       "7         Lose 2016-11-24 17:31:00  Soccer   \n",
       "101        Win 2016-10-19 18:01:00  Soccer   \n",
       "236       Lose 2016-05-20 16:49:00  Soccer   \n",
       "212       Lose 2016-06-16 17:31:00  Soccer   \n",
       "125       Lose 2016-07-10 17:35:00  Soccer   \n",
       "\n",
       "                                           bet_details  odds  stake  return  \\\n",
       "7     Man Utd v Feyenoord / Win-Draw-Win / Draw @ 5.00     5    3.0    0.00   \n",
       "101  FK Rostov v Atletico Madrid / Anytime Goalscor...  3.25    1.0    3.25   \n",
       "236  Crystal Palace v Man Utd / Timecast / Man Utd ...  3.06    5.0    0.00   \n",
       "212                                 Multibet (Doubles)  2.87    5.0    0.00   \n",
       "125  Azerbaijan v Norway / Win-Draw-Win / Norway @ ...  1.83    2.0    0.00   \n",
       "\n",
       "     bet_type  net_return  cum_return  \n",
       "7      Single       -3.00      -11.17  \n",
       "101    Single        2.25      -36.31  \n",
       "236    Single       -5.00     -101.84  \n",
       "212  Multibet       -5.00     -110.31  \n",
       "125    Single       -2.00      -28.12  "
      ]
     },
     "execution_count": 27,
     "metadata": {},
     "output_type": "execute_result"
    }
   ],
   "source": [
    "dfa = soccer_data\n",
    "dfa['date_placed'] = pd.to_datetime(dfa['date_placed'])\n",
    "#dfa.sample(n=5)\n",
    "#dfa.dtypes\n",
    "dfa['cum_return'] = dfa.net_return.cumsum()\n",
    "dfa.sample(n=5)"
   ]
  },
  {
   "cell_type": "code",
   "execution_count": 28,
   "metadata": {
    "collapsed": false,
    "scrolled": true
   },
   "outputs": [
    {
     "data": {
      "text/html": [
       "<div>\n",
       "<table border=\"1\" class=\"dataframe\">\n",
       "  <thead>\n",
       "    <tr style=\"text-align: right;\">\n",
       "      <th></th>\n",
       "      <th>date_placed</th>\n",
       "      <th>cum_return</th>\n",
       "    </tr>\n",
       "  </thead>\n",
       "  <tbody>\n",
       "    <tr>\n",
       "      <th>0</th>\n",
       "      <td>2016-11-24 17:32:00</td>\n",
       "      <td>4.64</td>\n",
       "    </tr>\n",
       "    <tr>\n",
       "      <th>1</th>\n",
       "      <td>2016-11-24 17:31:00</td>\n",
       "      <td>6.83</td>\n",
       "    </tr>\n",
       "    <tr>\n",
       "      <th>2</th>\n",
       "      <td>2016-11-24 17:31:00</td>\n",
       "      <td>3.83</td>\n",
       "    </tr>\n",
       "    <tr>\n",
       "      <th>3</th>\n",
       "      <td>2016-11-24 17:31:00</td>\n",
       "      <td>0.83</td>\n",
       "    </tr>\n",
       "    <tr>\n",
       "      <th>4</th>\n",
       "      <td>2016-11-24 17:31:00</td>\n",
       "      <td>-2.17</td>\n",
       "    </tr>\n",
       "    <tr>\n",
       "      <th>5</th>\n",
       "      <td>2016-11-24 17:31:00</td>\n",
       "      <td>-5.17</td>\n",
       "    </tr>\n",
       "    <tr>\n",
       "      <th>6</th>\n",
       "      <td>2016-11-24 17:31:00</td>\n",
       "      <td>-8.17</td>\n",
       "    </tr>\n",
       "    <tr>\n",
       "      <th>7</th>\n",
       "      <td>2016-11-24 17:31:00</td>\n",
       "      <td>-11.17</td>\n",
       "    </tr>\n",
       "    <tr>\n",
       "      <th>8</th>\n",
       "      <td>2016-11-24 17:31:00</td>\n",
       "      <td>-9.85</td>\n",
       "    </tr>\n",
       "    <tr>\n",
       "      <th>9</th>\n",
       "      <td>2016-11-23 18:04:00</td>\n",
       "      <td>-14.85</td>\n",
       "    </tr>\n",
       "    <tr>\n",
       "      <th>10</th>\n",
       "      <td>2016-11-23 18:03:00</td>\n",
       "      <td>-17.85</td>\n",
       "    </tr>\n",
       "    <tr>\n",
       "      <th>11</th>\n",
       "      <td>2016-11-23 18:03:00</td>\n",
       "      <td>-21.85</td>\n",
       "    </tr>\n",
       "    <tr>\n",
       "      <th>12</th>\n",
       "      <td>2016-11-23 18:03:00</td>\n",
       "      <td>-25.85</td>\n",
       "    </tr>\n",
       "    <tr>\n",
       "      <th>13</th>\n",
       "      <td>2016-11-23 18:03:00</td>\n",
       "      <td>-24.53</td>\n",
       "    </tr>\n",
       "    <tr>\n",
       "      <th>14</th>\n",
       "      <td>2016-11-22 16:43:00</td>\n",
       "      <td>-28.53</td>\n",
       "    </tr>\n",
       "    <tr>\n",
       "      <th>15</th>\n",
       "      <td>2016-11-22 16:43:00</td>\n",
       "      <td>-32.53</td>\n",
       "    </tr>\n",
       "    <tr>\n",
       "      <th>16</th>\n",
       "      <td>2016-11-22 16:43:00</td>\n",
       "      <td>-34.53</td>\n",
       "    </tr>\n",
       "    <tr>\n",
       "      <th>17</th>\n",
       "      <td>2016-11-22 16:43:00</td>\n",
       "      <td>-36.53</td>\n",
       "    </tr>\n",
       "    <tr>\n",
       "      <th>18</th>\n",
       "      <td>2016-11-22 16:43:00</td>\n",
       "      <td>-40.53</td>\n",
       "    </tr>\n",
       "    <tr>\n",
       "      <th>19</th>\n",
       "      <td>2016-11-22 16:43:00</td>\n",
       "      <td>-44.53</td>\n",
       "    </tr>\n",
       "    <tr>\n",
       "      <th>20</th>\n",
       "      <td>2016-11-19 23:24:00</td>\n",
       "      <td>-48.53</td>\n",
       "    </tr>\n",
       "    <tr>\n",
       "      <th>21</th>\n",
       "      <td>2016-11-19 23:24:00</td>\n",
       "      <td>-52.53</td>\n",
       "    </tr>\n",
       "    <tr>\n",
       "      <th>22</th>\n",
       "      <td>2016-11-19 23:24:00</td>\n",
       "      <td>-56.53</td>\n",
       "    </tr>\n",
       "    <tr>\n",
       "      <th>23</th>\n",
       "      <td>2016-11-19 23:24:00</td>\n",
       "      <td>-60.53</td>\n",
       "    </tr>\n",
       "    <tr>\n",
       "      <th>24</th>\n",
       "      <td>2016-11-19 23:24:00</td>\n",
       "      <td>-64.53</td>\n",
       "    </tr>\n",
       "    <tr>\n",
       "      <th>25</th>\n",
       "      <td>2016-11-19 23:24:00</td>\n",
       "      <td>-51.21</td>\n",
       "    </tr>\n",
       "    <tr>\n",
       "      <th>26</th>\n",
       "      <td>2016-11-19 23:24:00</td>\n",
       "      <td>-55.21</td>\n",
       "    </tr>\n",
       "    <tr>\n",
       "      <th>27</th>\n",
       "      <td>2016-11-19 23:24:00</td>\n",
       "      <td>-59.21</td>\n",
       "    </tr>\n",
       "    <tr>\n",
       "      <th>28</th>\n",
       "      <td>2016-11-19 23:24:00</td>\n",
       "      <td>-50.01</td>\n",
       "    </tr>\n",
       "    <tr>\n",
       "      <th>29</th>\n",
       "      <td>2016-11-16 10:32:00</td>\n",
       "      <td>-55.01</td>\n",
       "    </tr>\n",
       "    <tr>\n",
       "      <th>...</th>\n",
       "      <td>...</td>\n",
       "      <td>...</td>\n",
       "    </tr>\n",
       "    <tr>\n",
       "      <th>392</th>\n",
       "      <td>2015-11-09 16:19:00</td>\n",
       "      <td>-257.31</td>\n",
       "    </tr>\n",
       "    <tr>\n",
       "      <th>393</th>\n",
       "      <td>2015-11-09 16:19:00</td>\n",
       "      <td>-249.81</td>\n",
       "    </tr>\n",
       "    <tr>\n",
       "      <th>394</th>\n",
       "      <td>2015-11-09 16:19:00</td>\n",
       "      <td>-252.31</td>\n",
       "    </tr>\n",
       "    <tr>\n",
       "      <th>395</th>\n",
       "      <td>2015-11-09 16:15:00</td>\n",
       "      <td>-254.81</td>\n",
       "    </tr>\n",
       "    <tr>\n",
       "      <th>396</th>\n",
       "      <td>2015-08-28 18:34:00</td>\n",
       "      <td>-257.31</td>\n",
       "    </tr>\n",
       "    <tr>\n",
       "      <th>397</th>\n",
       "      <td>2015-08-28 18:29:00</td>\n",
       "      <td>-223.29</td>\n",
       "    </tr>\n",
       "    <tr>\n",
       "      <th>398</th>\n",
       "      <td>2015-08-28 18:19:00</td>\n",
       "      <td>-225.79</td>\n",
       "    </tr>\n",
       "    <tr>\n",
       "      <th>399</th>\n",
       "      <td>2015-08-28 18:15:00</td>\n",
       "      <td>-228.29</td>\n",
       "    </tr>\n",
       "    <tr>\n",
       "      <th>400</th>\n",
       "      <td>2015-08-28 18:13:00</td>\n",
       "      <td>-230.79</td>\n",
       "    </tr>\n",
       "    <tr>\n",
       "      <th>401</th>\n",
       "      <td>2015-08-28 18:12:00</td>\n",
       "      <td>-233.29</td>\n",
       "    </tr>\n",
       "    <tr>\n",
       "      <th>402</th>\n",
       "      <td>2015-08-21 21:06:00</td>\n",
       "      <td>-238.29</td>\n",
       "    </tr>\n",
       "    <tr>\n",
       "      <th>403</th>\n",
       "      <td>2015-08-21 20:59:00</td>\n",
       "      <td>-243.29</td>\n",
       "    </tr>\n",
       "    <tr>\n",
       "      <th>404</th>\n",
       "      <td>2015-08-21 20:53:00</td>\n",
       "      <td>-253.29</td>\n",
       "    </tr>\n",
       "    <tr>\n",
       "      <th>405</th>\n",
       "      <td>2015-08-13 19:43:00</td>\n",
       "      <td>-258.29</td>\n",
       "    </tr>\n",
       "    <tr>\n",
       "      <th>406</th>\n",
       "      <td>2015-08-13 19:41:00</td>\n",
       "      <td>-263.29</td>\n",
       "    </tr>\n",
       "    <tr>\n",
       "      <th>407</th>\n",
       "      <td>2015-07-08 17:41:00</td>\n",
       "      <td>-265.79</td>\n",
       "    </tr>\n",
       "    <tr>\n",
       "      <th>408</th>\n",
       "      <td>2015-07-08 17:30:00</td>\n",
       "      <td>-268.29</td>\n",
       "    </tr>\n",
       "    <tr>\n",
       "      <th>409</th>\n",
       "      <td>2015-07-08 17:27:00</td>\n",
       "      <td>-270.79</td>\n",
       "    </tr>\n",
       "    <tr>\n",
       "      <th>410</th>\n",
       "      <td>2015-07-08 17:26:00</td>\n",
       "      <td>-273.29</td>\n",
       "    </tr>\n",
       "    <tr>\n",
       "      <th>411</th>\n",
       "      <td>2015-06-02 16:46:00</td>\n",
       "      <td>-275.29</td>\n",
       "    </tr>\n",
       "    <tr>\n",
       "      <th>412</th>\n",
       "      <td>2015-06-02 16:40:00</td>\n",
       "      <td>-278.65</td>\n",
       "    </tr>\n",
       "    <tr>\n",
       "      <th>413</th>\n",
       "      <td>2015-01-30 13:42:00</td>\n",
       "      <td>-283.65</td>\n",
       "    </tr>\n",
       "    <tr>\n",
       "      <th>414</th>\n",
       "      <td>2015-01-30 13:20:00</td>\n",
       "      <td>-288.65</td>\n",
       "    </tr>\n",
       "    <tr>\n",
       "      <th>415</th>\n",
       "      <td>2015-01-29 14:32:00</td>\n",
       "      <td>-284.84</td>\n",
       "    </tr>\n",
       "    <tr>\n",
       "      <th>418</th>\n",
       "      <td>2015-01-21 17:42:00</td>\n",
       "      <td>-286.84</td>\n",
       "    </tr>\n",
       "    <tr>\n",
       "      <th>419</th>\n",
       "      <td>2015-01-21 17:41:00</td>\n",
       "      <td>-287.84</td>\n",
       "    </tr>\n",
       "    <tr>\n",
       "      <th>420</th>\n",
       "      <td>2015-01-21 17:38:00</td>\n",
       "      <td>-290.84</td>\n",
       "    </tr>\n",
       "    <tr>\n",
       "      <th>421</th>\n",
       "      <td>2015-01-15 19:42:00</td>\n",
       "      <td>-292.84</td>\n",
       "    </tr>\n",
       "    <tr>\n",
       "      <th>422</th>\n",
       "      <td>2015-01-15 16:59:00</td>\n",
       "      <td>-297.84</td>\n",
       "    </tr>\n",
       "    <tr>\n",
       "      <th>428</th>\n",
       "      <td>2015-08-01 09:54:00</td>\n",
       "      <td>-302.84</td>\n",
       "    </tr>\n",
       "  </tbody>\n",
       "</table>\n",
       "<p>386 rows × 2 columns</p>\n",
       "</div>"
      ],
      "text/plain": [
       "            date_placed  cum_return\n",
       "0   2016-11-24 17:32:00        4.64\n",
       "1   2016-11-24 17:31:00        6.83\n",
       "2   2016-11-24 17:31:00        3.83\n",
       "3   2016-11-24 17:31:00        0.83\n",
       "4   2016-11-24 17:31:00       -2.17\n",
       "5   2016-11-24 17:31:00       -5.17\n",
       "6   2016-11-24 17:31:00       -8.17\n",
       "7   2016-11-24 17:31:00      -11.17\n",
       "8   2016-11-24 17:31:00       -9.85\n",
       "9   2016-11-23 18:04:00      -14.85\n",
       "10  2016-11-23 18:03:00      -17.85\n",
       "11  2016-11-23 18:03:00      -21.85\n",
       "12  2016-11-23 18:03:00      -25.85\n",
       "13  2016-11-23 18:03:00      -24.53\n",
       "14  2016-11-22 16:43:00      -28.53\n",
       "15  2016-11-22 16:43:00      -32.53\n",
       "16  2016-11-22 16:43:00      -34.53\n",
       "17  2016-11-22 16:43:00      -36.53\n",
       "18  2016-11-22 16:43:00      -40.53\n",
       "19  2016-11-22 16:43:00      -44.53\n",
       "20  2016-11-19 23:24:00      -48.53\n",
       "21  2016-11-19 23:24:00      -52.53\n",
       "22  2016-11-19 23:24:00      -56.53\n",
       "23  2016-11-19 23:24:00      -60.53\n",
       "24  2016-11-19 23:24:00      -64.53\n",
       "25  2016-11-19 23:24:00      -51.21\n",
       "26  2016-11-19 23:24:00      -55.21\n",
       "27  2016-11-19 23:24:00      -59.21\n",
       "28  2016-11-19 23:24:00      -50.01\n",
       "29  2016-11-16 10:32:00      -55.01\n",
       "..                  ...         ...\n",
       "392 2015-11-09 16:19:00     -257.31\n",
       "393 2015-11-09 16:19:00     -249.81\n",
       "394 2015-11-09 16:19:00     -252.31\n",
       "395 2015-11-09 16:15:00     -254.81\n",
       "396 2015-08-28 18:34:00     -257.31\n",
       "397 2015-08-28 18:29:00     -223.29\n",
       "398 2015-08-28 18:19:00     -225.79\n",
       "399 2015-08-28 18:15:00     -228.29\n",
       "400 2015-08-28 18:13:00     -230.79\n",
       "401 2015-08-28 18:12:00     -233.29\n",
       "402 2015-08-21 21:06:00     -238.29\n",
       "403 2015-08-21 20:59:00     -243.29\n",
       "404 2015-08-21 20:53:00     -253.29\n",
       "405 2015-08-13 19:43:00     -258.29\n",
       "406 2015-08-13 19:41:00     -263.29\n",
       "407 2015-07-08 17:41:00     -265.79\n",
       "408 2015-07-08 17:30:00     -268.29\n",
       "409 2015-07-08 17:27:00     -270.79\n",
       "410 2015-07-08 17:26:00     -273.29\n",
       "411 2015-06-02 16:46:00     -275.29\n",
       "412 2015-06-02 16:40:00     -278.65\n",
       "413 2015-01-30 13:42:00     -283.65\n",
       "414 2015-01-30 13:20:00     -288.65\n",
       "415 2015-01-29 14:32:00     -284.84\n",
       "418 2015-01-21 17:42:00     -286.84\n",
       "419 2015-01-21 17:41:00     -287.84\n",
       "420 2015-01-21 17:38:00     -290.84\n",
       "421 2015-01-15 19:42:00     -292.84\n",
       "422 2015-01-15 16:59:00     -297.84\n",
       "428 2015-08-01 09:54:00     -302.84\n",
       "\n",
       "[386 rows x 2 columns]"
      ]
     },
     "execution_count": 28,
     "metadata": {},
     "output_type": "execute_result"
    }
   ],
   "source": [
    "dfa = dfa[['date_placed','cum_return']]\n",
    "# dfa.index = dfa['date_placed']\n",
    "dfa\n",
    "#dfa.plot(kind='line',figsize=[16,5])"
   ]
  },
  {
   "cell_type": "code",
   "execution_count": 31,
   "metadata": {
    "collapsed": false
   },
   "outputs": [
    {
     "data": {
      "text/plain": [
       "<matplotlib.axes._subplots.AxesSubplot at 0x1e592317550>"
      ]
     },
     "execution_count": 31,
     "metadata": {},
     "output_type": "execute_result"
    },
    {
     "data": {
      "image/png": "[encoded data removed]",
      "text/plain": [
       "<matplotlib.figure.Figure at 0x1e59235eb00>"
      ]
     },
     "metadata": {},
     "output_type": "display_data"
    }
   ],
   "source": [
    "dfa.plot(kind='line',figsize=[16,5], title=\"Return by # of bets placed\")"
   ]
  },
  {
   "cell_type": "code",
   "execution_count": 30,
   "metadata": {
    "collapsed": false
   },
   "outputs": [
    {
     "name": "stdout",
     "output_type": "stream",
     "text": [
      "The word \"python\" usually refers to a snake\n"
     ]
    }
   ],
   "source": [
    "test_string = 'The word \"python\" usually refers to a snake'\n",
    "print(test_string)"
   ]
  }
 ],
 "metadata": {
  "anaconda-cloud": {},
  "kernelspec": {
   "display_name": "Python [default]",
   "language": "python",
   "name": "python3"
  },
  "language_info": {
   "codemirror_mode": {
    "name": "ipython",
    "version": 3
   },
   "file_extension": ".py",
   "mimetype": "text/x-python",
   "name": "python",
   "nbconvert_exporter": "python",
   "pygments_lexer": "ipython3",
   "version": "3.5.2"
  }
 },
 "nbformat": 4,
 "nbformat_minor": 1
}
