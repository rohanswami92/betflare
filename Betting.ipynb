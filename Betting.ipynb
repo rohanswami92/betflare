{
 "cells": [
  {
   "cell_type": "code",
   "execution_count": 77,
   "metadata": {
    "collapsed": false
   },
   "outputs": [
    {
     "name": "stdout",
     "output_type": "stream",
     "text": [
      "     bet_status     date_placed             type  \\\n",
      "0          Lose  25/01/17 15:16           Soccer   \n",
      "1    Cashed Out  25/01/17 15:16           Soccer   \n",
      "2          Lose  25/01/17 15:16           Soccer   \n",
      "3          Lose  20/01/17 17:54           Soccer   \n",
      "4           Win  20/01/17 17:54           Soccer   \n",
      "5           Win  20/01/17 17:54           Soccer   \n",
      "6           Win  20/01/17 17:54           Soccer   \n",
      "7           Win  20/01/17 17:54           Soccer   \n",
      "8           Win  20/01/17 17:54           Soccer   \n",
      "9           Win  20/01/17 17:54           Soccer   \n",
      "10          Win  20/01/17 17:54           Soccer   \n",
      "11         Lose  20/01/17 17:54           Soccer   \n",
      "12          Win  20/01/17 17:54           Soccer   \n",
      "13         Lose  20/01/17 17:54           Soccer   \n",
      "14          Win  20/01/17 17:54           Soccer   \n",
      "15         Lose  19/01/17 17:33           Soccer   \n",
      "16          Win  19/01/17 17:33           Soccer   \n",
      "17          Win  19/01/17 17:33           Soccer   \n",
      "18          Win  17/01/17 17:39           Soccer   \n",
      "19          Win  17/01/17 17:39           Tennis   \n",
      "20          Win  17/01/17 17:39           Tennis   \n",
      "21         Lose  17/01/17 17:39           Tennis   \n",
      "22         Lose  17/01/17 17:39           Tennis   \n",
      "23          Win  13/01/17 17:37           Soccer   \n",
      "24         Lose  13/01/17 17:30           Soccer   \n",
      "25         Lose  13/01/17 17:28           Soccer   \n",
      "26         Lose  13/01/17 17:28           Soccer   \n",
      "27         Lose  13/01/17 17:28           Soccer   \n",
      "28         Lose  13/01/17 17:28           Soccer   \n",
      "29          Win  13/01/17 17:28           Soccer   \n",
      "..          ...             ...              ...   \n",
      "475        Lose  21/08/15 21:06           Soccer   \n",
      "476        Lose  21/08/15 20:59           Soccer   \n",
      "477        Lose  21/08/15 20:53           Soccer   \n",
      "478        Lose  13/08/15 19:43           Soccer   \n",
      "479        Lose  13/08/15 19:41           Soccer   \n",
      "480        Lose  07/08/15 17:41           Soccer   \n",
      "481        Lose  07/08/15 17:30           Soccer   \n",
      "482        Lose  07/08/15 17:27           Soccer   \n",
      "483        Lose  07/08/15 17:26           Soccer   \n",
      "484        Lose  06/02/15 16:46           Soccer   \n",
      "485        Lose  06/02/15 16:40           Soccer   \n",
      "486        Lose  30/01/15 13:42           Soccer   \n",
      "487        Lose  30/01/15 13:20           Soccer   \n",
      "488         Win  29/01/15 14:32           Soccer   \n",
      "489        Lose  27/01/15 18:37           Tennis   \n",
      "490        Lose  22/01/15 15:36          Cricket   \n",
      "491        Lose  21/01/15 17:42           Soccer   \n",
      "492        Lose  21/01/15 17:41           Soccer   \n",
      "493        Lose  21/01/15 17:38           Soccer   \n",
      "494        Lose  15/01/15 19:42           Soccer   \n",
      "495        Lose  15/01/15 16:59           Soccer   \n",
      "496        Lose  15/01/15 14:00          Cricket   \n",
      "497         Win  15/01/15 13:59          Cricket   \n",
      "498        Lose  15/01/15 13:59          Cricket   \n",
      "499         Win  15/01/15 13:54          Cricket   \n",
      "500         Win  08/01/15 09:55          Cricket   \n",
      "501        Lose  08/01/15 09:54           Soccer   \n",
      "502        Lose  04/11/14 14:32  Horses - Aus/NZ   \n",
      "503        Lose  04/11/14 14:32  Horses - Aus/NZ   \n",
      "504        Lose  04/11/14 14:32  Horses - Aus/NZ   \n",
      "\n",
      "                                           bet_details         price    odds  \\\n",
      "0    FC Utrecht v Cambuur Leeuwarden / Win-Draw-Win...    1.45 (Win)    1.45   \n",
      "1    Celta Vigo v Real Madrid / Win-Draw-Win / Real...    1.62 (Win)    1.62   \n",
      "2    Barcelona v Real Sociedad / Win-Draw-Win / Dra...    6.00 (Win)       6   \n",
      "3    Ivory Coast v Congo DR / Win-Draw-Win / Ivory ...    1.83 (Win)    1.83   \n",
      "4       Morocco v Togo / Win-Draw-Win / Morocco @ 1.83    1.83 (Win)    1.83   \n",
      "5    Espanyol v Granada / Win-Draw-Win / Espanyol @...    1.53 (Win)    1.53   \n",
      "6    Crystal Palace v Everton / Win-Draw-Win / Ever...    2.37 (Win)    2.37   \n",
      "7    Middlesbrough v West Ham / Win-Draw-Win / West...    3.10 (Win)     3.1   \n",
      "8    West Brom v Sunderland / Win-Draw-Win / West B...    1.67 (Win)    1.67   \n",
      "9             Nantes v PSG / Win-Draw-Win / PSG @ 1.36    1.36 (Win)    1.36   \n",
      "10          Ghana v Mali / Win-Draw-Win / Ghana @ 2.10    2.10 (Win)     2.1   \n",
      "11   Man City v Tottenham / Win-Draw-Win / Tottenha...    3.50 (Win)     3.5   \n",
      "12        Egypt v Uganda / Win-Draw-Win / Egypt @ 1.80    1.80 (Win)     1.8   \n",
      "13   Villarreal v Valencia / Win-Draw-Win / Villarr...    1.83 (Win)    1.83   \n",
      "14   Osasuna v Sevilla / Win-Draw-Win / Sevilla @ 1.50    1.50 (Win)     1.5   \n",
      "15   Algeria v Tunisia / Win-Draw-Win / Algeria @ 2.20    2.20 (Win)     2.2   \n",
      "16                                  Multibet (Doubles)          2.26    2.26   \n",
      "17                                  Multibet (Doubles)          1.96    1.96   \n",
      "18        Ghana v Uganda / Win-Draw-Win / Ghana @ 1.80    1.80 (Win)     1.8   \n",
      "19     G Monfils v J Vesely / Match / G Monfils @ 1.28    1.28 (Win)    1.28   \n",
      "20       O Jasika v D Ferrer / Match / D Ferrer @ 1.14    1.14 (Win)    1.14   \n",
      "21       F Fognini v F Lopez /  Match / F Lopez @ 1.73    1.73 (Win)    1.73   \n",
      "22          H Chung v R Olivo / Match / R Olivo @ 4.25    4.25 (Win)    4.25   \n",
      "23                                  Multibet (5 folds)          2.61    2.61   \n",
      "24   Melbourne Victory v Brisbane Roar / Double Cha...    2.10 (Win)     2.1   \n",
      "25   Leganes v Athletic Bilbao / Win-Draw-Win / Ath...    2.30 (Win)     2.3   \n",
      "26   Burnley v Southampton / Win-Draw-Win / Draw @ ...    3.10 (Win)     3.1   \n",
      "27     Hull v Bournemouth / Win-Draw-Win / Draw @ 3.40    3.40 (Win)     3.4   \n",
      "28   West Ham v Crystal Palace / Win-Draw-Win / Dra...    3.30 (Win)     3.3   \n",
      "29   Watford v Middlesbrough / Win-Draw-Win / Draw ...    3.00 (Win)       3   \n",
      "..                                                 ...           ...     ...   \n",
      "475                                 Multibet (5 folds)         39.06   39.06   \n",
      "476                                 Multibet (5 folds)         76.21   76.21   \n",
      "477                                 Multibet (5 folds)         55.89   55.89   \n",
      "478                                 Multibet (6 folds)        304.07  304.07   \n",
      "479                                 Multibet (5 folds)         89.43   89.43   \n",
      "480                                 Multibet (5 folds)         33.61   33.61   \n",
      "481                                 Multibet (6 folds)         69.73   69.73   \n",
      "482                                 Multibet (6 folds)        100.04  100.04   \n",
      "483                                 Multibet (6 folds)         41.65   41.65   \n",
      "484                                 Multibet (Trebles)         23.62   23.62   \n",
      "485                                 Multibet (5 folds)         17.09   17.09   \n",
      "486                                 Multibet (4 folds)           4.3     4.3   \n",
      "487                                 Multibet (7 folds)        179.33  179.33   \n",
      "488                                 Multibet (Doubles)           2.9     2.9   \n",
      "489  A Murray v N Kyrgios / Set Betting / A Murray ...    3.60 (Win)     3.6   \n",
      "490                                 Multibet (Doubles)          3.11    3.11   \n",
      "491                                 Multibet (Trebles)          4.53    4.53   \n",
      "492                                 Multibet (Trebles)         11.17   11.17   \n",
      "493                                 Multibet (6 folds)          9.39    9.39   \n",
      "494                                 Multibet (Trebles)          4.49    4.49   \n",
      "495                                 Multibet (5 folds)        138.91  138.91   \n",
      "496  Australia v England / 1st Wicket Caught? / Yes...    1.40 (Win)     1.4   \n",
      "497  Australia v England / Team A - Batsman C Total...    1.85 (Win)    1.85   \n",
      "498  Australia v England / Team A - Batsman A Total...    1.88 (Win)    1.88   \n",
      "499     Australia v England / Match / Australia @ 1.36    1.36 (Win)    1.36   \n",
      "500  Australia v India / Team Total Runs - Level 3*...    2.25 (Win)    2.25   \n",
      "501                                 Multibet (4 folds)        124.74  124.74   \n",
      "502  Flemington R7 / Win or Place / 13. Willing Foe...  8.50 (Place)     8.5   \n",
      "503  Flemington R7 / Win or Place / 1. Admire Rakti...  2.10 (Place)     2.1   \n",
      "504  Flemington R7 / Win or Place / 22. Lucia Valen...  2.50 (Place)     2.5   \n",
      "\n",
      "     stake  return               bet_id    bet_type  number_of_lines  \\\n",
      "0     4.00    0.00  O/1945704/0000510/D      Single                1   \n",
      "1     4.00    1.25  O/1945704/0000509/D      Single                1   \n",
      "2     1.00    0.00  O/1945704/0000508/D      Single                1   \n",
      "3     4.00    0.00  O/1945704/0000502/D      Single                1   \n",
      "4     4.00    7.32  O/1945704/0000501/D      Single                1   \n",
      "5     4.00    6.12  O/1945704/0000500/D      Single                1   \n",
      "6     3.00    7.11  O/1945704/0000499/D      Single                1   \n",
      "7     2.00    6.20  O/1945704/0000498/D      Single                1   \n",
      "8     3.00    5.01  O/1945704/0000497/D      Single                1   \n",
      "9     3.00    4.08  O/1945704/0000496/D      Single                1   \n",
      "10    1.00    2.10  O/1945704/0000495/D      Single                1   \n",
      "11    1.00    0.00  O/1945704/0000494/D      Single                1   \n",
      "12    2.00    3.60  O/1945704/0000493/D      Single                1   \n",
      "13    3.00    0.00  O/1945704/0000492/D      Single                1   \n",
      "14    4.00    6.00  O/1945704/0000491/D      Single                1   \n",
      "15    4.00    0.00  O/1945704/0000490/D      Single                1   \n",
      "16    4.00    9.04  O/1945704/0000489/D    Multibet                1   \n",
      "17    5.00    9.81  O/1945704/0000488/D    Multibet                1   \n",
      "18    3.00    5.40  O/1945704/0000487/D      Single                1   \n",
      "19    2.00    2.56  O/1945704/0000486/D      Single                1   \n",
      "20    2.00    2.28  O/1945704/0000485/D      Single                1   \n",
      "21    2.00    0.00  O/1945704/0000484/D      Single                1   \n",
      "22    1.00    0.00  O/1945704/0000483/D      Single                1   \n",
      "23    2.00    5.24  O/1945704/0000482/D    Multibet                1   \n",
      "24    1.00    0.00  O/1945704/0000481/D      Single                1   \n",
      "25    2.00    0.00  O/1945704/0000480/D      Single                1   \n",
      "26    1.00    0.00  O/1945704/0000479/D      Single                1   \n",
      "27    1.00    0.00  O/1945704/0000478/D      Single                1   \n",
      "28    1.00    0.00  O/1945704/0000477/D      Single                1   \n",
      "29    1.00    3.00  O/1945704/0000476/D      Single                1   \n",
      "..     ...     ...                  ...         ...              ...   \n",
      "475   5.00    0.00  O/1945704/0000030/D    Multibet                1   \n",
      "476   5.00    0.00  O/1945704/0000029/D    Multibet                1   \n",
      "477  10.00    0.00  O/1945704/0000028/D    Multibet                1   \n",
      "478   5.00    0.00  O/1945704/0000027/D    Multibet                1   \n",
      "479   5.00    0.00  O/1945704/0000026/D    Multibet                1   \n",
      "480   2.50    0.00  O/1945704/0000025/D    Multibet                1   \n",
      "481   2.50    0.00  O/1945704/0000024/D    Multibet                1   \n",
      "482   2.50    0.00  O/1945704/0000023/D    Multibet                1   \n",
      "483   2.50    0.00  O/1945704/0000022/D    Multibet                1   \n",
      "484   2.00    0.00  O/1945704/0000021/D    Multibet                1   \n",
      "485   3.36    0.00  O/1945704/0000020/D    Multibet                1   \n",
      "486   5.00    0.00  O/1945704/0000019/D    Multibet                1   \n",
      "487   5.00    0.00  O/1945704/0000018/D    Multibet                1   \n",
      "488   2.00    5.81  O/1945704/0000017/D    Multibet                1   \n",
      "489   2.00    0.00  O/1945704/0000016/D      Single                1   \n",
      "490   2.00    0.00  O/1945704/0000015/D    Multibet                1   \n",
      "491   2.00    0.00  O/1945704/0000014/D    Multibet                1   \n",
      "492   1.00    0.00  O/1945704/0000013/D    Multibet                1   \n",
      "493   3.00    0.00  O/1945704/0000012/D    Multibet                1   \n",
      "494   2.00    0.00  O/1945704/0000011/D    Multibet                1   \n",
      "495   5.00    0.00  O/1945704/0000010/D    Multibet                1   \n",
      "496   5.00    0.00  O/1945704/0000009/D      Single                1   \n",
      "497   5.00    9.25  O/1945704/0000008/D  Over/Under                1   \n",
      "498   5.00    0.00  O/1945704/0000007/D  Over/Under                1   \n",
      "499   5.00    6.80  O/1945704/0000006/D      Single                1   \n",
      "500  10.00   22.50  O/1945704/0000005/D  Over/Under                1   \n",
      "501   5.00    0.00  O/1945704/0000004/D    Multibet                1   \n",
      "502  10.00    0.00  O/1945704/0000003/D      Single                1   \n",
      "503  10.00    0.00  O/1945704/0000002/D      Single                1   \n",
      "504  10.00    0.00  O/1945704/0000001/D      Single                1   \n",
      "\n",
      "     stake_per_line percentage      channel  bonus_bets_redeeemed  \n",
      "0              4.00        NaN  SB Internet                     0  \n",
      "1              4.00        NaN  SB Internet                     0  \n",
      "2              1.00        NaN  SB Internet                     0  \n",
      "3              4.00        NaN  SB Internet                     0  \n",
      "4              4.00        NaN  SB Internet                     0  \n",
      "5              4.00        NaN  SB Internet                     0  \n",
      "6              3.00        NaN  SB Internet                     0  \n",
      "7              2.00        NaN  SB Internet                     0  \n",
      "8              3.00        NaN  SB Internet                     0  \n",
      "9              3.00        NaN  SB Internet                     0  \n",
      "10             1.00        NaN  SB Internet                     0  \n",
      "11             1.00        NaN  SB Internet                     0  \n",
      "12             2.00        NaN  SB Internet                     0  \n",
      "13             3.00        NaN  SB Internet                     0  \n",
      "14             4.00        NaN  SB Internet                     0  \n",
      "15             4.00        NaN  SB Internet                     0  \n",
      "16             4.00        NaN  SB Internet                     0  \n",
      "17             5.00        NaN  SB Internet                     0  \n",
      "18             3.00        NaN  SB Internet                     0  \n",
      "19             2.00        NaN  SB Internet                     0  \n",
      "20             2.00        NaN  SB Internet                     0  \n",
      "21             2.00        NaN  SB Internet                     0  \n",
      "22             1.00        NaN  SB Internet                     0  \n",
      "23             2.00        NaN  SB Internet                     0  \n",
      "24             1.00        NaN  SB Internet                     0  \n",
      "25             2.00        NaN  SB Internet                     0  \n",
      "26             1.00        NaN  SB Internet                     0  \n",
      "27             1.00        NaN  SB Internet                     0  \n",
      "28             1.00        NaN  SB Internet                     0  \n",
      "29             1.00        NaN  SB Internet                     0  \n",
      "..              ...        ...          ...                   ...  \n",
      "475            5.00        NaN  SB Internet                     0  \n",
      "476            5.00        NaN  SB Internet                     0  \n",
      "477           10.00        NaN  SB Internet                     0  \n",
      "478            5.00        NaN  SB Internet                     0  \n",
      "479            5.00        NaN  SB Internet                     0  \n",
      "480            2.50        NaN  SB Internet                     0  \n",
      "481            2.50        NaN  SB Internet                     0  \n",
      "482            2.50        NaN  SB Internet                     0  \n",
      "483            2.50        NaN  SB Internet                     0  \n",
      "484            2.00        NaN  SB Internet                     0  \n",
      "485            3.36        NaN  SB Internet                     0  \n",
      "486            5.00        NaN  SB Internet                     0  \n",
      "487            5.00        NaN  SB Internet                     0  \n",
      "488            2.00        NaN  SB Internet                     0  \n",
      "489            2.00        NaN  SB Internet                     0  \n",
      "490            2.00        NaN  SB Internet                     0  \n",
      "491            2.00        NaN  SB Internet                     0  \n",
      "492            1.00        NaN  SB Internet                     0  \n",
      "493            3.00        NaN  SB Internet                     0  \n",
      "494            2.00        NaN  SB Internet                     0  \n",
      "495            5.00        NaN  SB Internet                     0  \n",
      "496            5.00        NaN  SB Internet                     0  \n",
      "497            5.00        NaN  SB Internet                     0  \n",
      "498            5.00        NaN  SB Internet                     0  \n",
      "499            5.00        NaN  SB Internet                     0  \n",
      "500           10.00        NaN  SB Internet                     0  \n",
      "501            5.00        NaN  SB Internet                     0  \n",
      "502           10.00        NaN  SB Internet                     0  \n",
      "503           10.00        NaN  SB Internet                     0  \n",
      "504           10.00        NaN  SB Internet                     0  \n",
      "\n",
      "[505 rows x 15 columns]\n"
     ]
    }
   ],
   "source": [
    "%matplotlib inline\n",
    "\n",
    "import matplotlib\n",
    "import pandas as pd\n",
    "import numpy as np\n",
    "import matplotlib.pyplot as plt\n",
    "\n",
    "data = pd.read_csv('/Users/rohan/Documents/betflare/BetHistory20170127_Bet_SortOnDate_Descending.csv')\n",
    "print(data)"
   ]
  },
  {
   "cell_type": "code",
   "execution_count": 78,
   "metadata": {
    "collapsed": false,
    "scrolled": true
   },
   "outputs": [
    {
     "name": "stderr",
     "output_type": "stream",
     "text": [
      "/Users/rohan/anaconda/lib/python3.5/site-packages/ipykernel/__main__.py:10: SettingWithCopyWarning: \n",
      "A value is trying to be set on a copy of a slice from a DataFrame.\n",
      "Try using .loc[row_indexer,col_indexer] = value instead\n",
      "\n",
      "See the caveats in the documentation: http://pandas.pydata.org/pandas-docs/stable/indexing.html#indexing-view-versus-copy\n"
     ]
    },
    {
     "data": {
      "text/html": [
       "<div>\n",
       "<table border=\"1\" class=\"dataframe\">\n",
       "  <thead>\n",
       "    <tr style=\"text-align: right;\">\n",
       "      <th></th>\n",
       "      <th>bet_status</th>\n",
       "      <th>date_placed</th>\n",
       "      <th>type</th>\n",
       "      <th>bet_details</th>\n",
       "      <th>odds</th>\n",
       "      <th>stake</th>\n",
       "      <th>return</th>\n",
       "      <th>bet_type</th>\n",
       "      <th>net_return</th>\n",
       "    </tr>\n",
       "  </thead>\n",
       "  <tbody>\n",
       "    <tr>\n",
       "      <th>0</th>\n",
       "      <td>Lose</td>\n",
       "      <td>2015-01-10 18:06:00</td>\n",
       "      <td>Soccer</td>\n",
       "      <td>Multibet (Doubles)</td>\n",
       "      <td>6.56</td>\n",
       "      <td>5.0</td>\n",
       "      <td>0.0</td>\n",
       "      <td>Multibet</td>\n",
       "      <td>-5.0</td>\n",
       "    </tr>\n",
       "    <tr>\n",
       "      <th>1</th>\n",
       "      <td>Lose</td>\n",
       "      <td>2015-01-10 18:10:00</td>\n",
       "      <td>Soccer</td>\n",
       "      <td>Multibet (Doubles)</td>\n",
       "      <td>10.2</td>\n",
       "      <td>3.0</td>\n",
       "      <td>0.0</td>\n",
       "      <td>Multibet</td>\n",
       "      <td>-3.0</td>\n",
       "    </tr>\n",
       "    <tr>\n",
       "      <th>2</th>\n",
       "      <td>Lose</td>\n",
       "      <td>2015-01-10 18:12:00</td>\n",
       "      <td>Soccer</td>\n",
       "      <td>Multibet (Doubles)</td>\n",
       "      <td>13.5</td>\n",
       "      <td>3.0</td>\n",
       "      <td>0.0</td>\n",
       "      <td>Multibet</td>\n",
       "      <td>-3.0</td>\n",
       "    </tr>\n",
       "    <tr>\n",
       "      <th>3</th>\n",
       "      <td>Lose</td>\n",
       "      <td>2015-01-15 16:59:00</td>\n",
       "      <td>Soccer</td>\n",
       "      <td>Multibet (5 folds)</td>\n",
       "      <td>138.91</td>\n",
       "      <td>5.0</td>\n",
       "      <td>0.0</td>\n",
       "      <td>Multibet</td>\n",
       "      <td>-5.0</td>\n",
       "    </tr>\n",
       "    <tr>\n",
       "      <th>4</th>\n",
       "      <td>Lose</td>\n",
       "      <td>2015-01-15 19:42:00</td>\n",
       "      <td>Soccer</td>\n",
       "      <td>Multibet (Trebles)</td>\n",
       "      <td>4.49</td>\n",
       "      <td>2.0</td>\n",
       "      <td>0.0</td>\n",
       "      <td>Multibet</td>\n",
       "      <td>-2.0</td>\n",
       "    </tr>\n",
       "  </tbody>\n",
       "</table>\n",
       "</div>"
      ],
      "text/plain": [
       "  bet_status         date_placed    type         bet_details    odds  stake  \\\n",
       "0       Lose 2015-01-10 18:06:00  Soccer  Multibet (Doubles)    6.56    5.0   \n",
       "1       Lose 2015-01-10 18:10:00  Soccer  Multibet (Doubles)    10.2    3.0   \n",
       "2       Lose 2015-01-10 18:12:00  Soccer  Multibet (Doubles)    13.5    3.0   \n",
       "3       Lose 2015-01-15 16:59:00  Soccer  Multibet (5 folds)  138.91    5.0   \n",
       "4       Lose 2015-01-15 19:42:00  Soccer  Multibet (Trebles)    4.49    2.0   \n",
       "\n",
       "   return  bet_type  net_return  \n",
       "0     0.0  Multibet        -5.0  \n",
       "1     0.0  Multibet        -3.0  \n",
       "2     0.0  Multibet        -3.0  \n",
       "3     0.0  Multibet        -5.0  \n",
       "4     0.0  Multibet        -2.0  "
      ]
     },
     "execution_count": 78,
     "metadata": {},
     "output_type": "execute_result"
    }
   ],
   "source": [
    "data = data.fillna('')\n",
    "\n",
    "#remove other sports\n",
    "data = data[['bet_status', 'date_placed', 'type', 'bet_details', 'odds', 'stake', 'return', 'bet_type']]\n",
    "\n",
    "soccer_data = data\n",
    "sport = (soccer_data['type']) == 'Soccer'\n",
    "soccer_data = soccer_data[sport]\n",
    "\n",
    "soccer_data['date_placed'] = pd.to_datetime(soccer_data['date_placed'])\n",
    "soccer_data = soccer_data.sort_values(by='date_placed', ascending=1)\n",
    "soccer_data = soccer_data.reset_index(drop=True)\n",
    "soccer_data.loc[:,'net_return'] = soccer_data['return'] - soccer_data['stake']\n",
    "\n",
    "soccer_data.head()\n",
    "# sample rows data.sample(n=5)"
   ]
  },
  {
   "cell_type": "code",
   "execution_count": 79,
   "metadata": {
    "collapsed": false
   },
   "outputs": [
    {
     "data": {
      "text/plain": [
       "bet_status             object\n",
       "date_placed    datetime64[ns]\n",
       "type                   object\n",
       "bet_details            object\n",
       "odds                   object\n",
       "stake                 float64\n",
       "return                float64\n",
       "bet_type               object\n",
       "net_return            float64\n",
       "dtype: object"
      ]
     },
     "execution_count": 79,
     "metadata": {},
     "output_type": "execute_result"
    }
   ],
   "source": [
    "soccer_data.dtypes"
   ]
  },
  {
   "cell_type": "code",
   "execution_count": 80,
   "metadata": {
    "collapsed": false,
    "scrolled": false
   },
   "outputs": [
    {
     "data": {
      "text/plain": [
       "<matplotlib.axes._subplots.AxesSubplot at 0x118c1f160>"
      ]
     },
     "execution_count": 80,
     "metadata": {},
     "output_type": "execute_result"
    },
    {
     "data": {
      "image/png": "[encoded data removed]",
      "text/plain": [
       "<matplotlib.figure.Figure at 0x118c1ff98>"
      ]
     },
     "metadata": {},
     "output_type": "display_data"
    }
   ],
   "source": [
    "soccer_data['bet_type'].value_counts().plot(kind='bar',title = '# Bets by bet type')"
   ]
  },
  {
   "cell_type": "code",
   "execution_count": 81,
   "metadata": {
    "collapsed": false
   },
   "outputs": [
    {
     "data": {
      "text/plain": [
       "0.2967032967032967"
      ]
     },
     "execution_count": 81,
     "metadata": {},
     "output_type": "execute_result"
    }
   ],
   "source": [
    "# win rate\n",
    "\n",
    "lose = soccer_data['bet_status'].value_counts()[0]\n",
    "win = soccer_data['bet_status'].value_counts()[1]\n",
    "cashed_out = soccer_data['bet_status'].value_counts()[2]\n",
    "total_bet_count = lose + win + cashed_out\n",
    "float(win) / total_bet_count"
   ]
  },
  {
   "cell_type": "code",
   "execution_count": 82,
   "metadata": {
    "collapsed": true
   },
   "outputs": [],
   "source": [
    "# soccer_data.sort_values(by='STAKE', ascending=False)[:5]"
   ]
  },
  {
   "cell_type": "code",
   "execution_count": 83,
   "metadata": {
    "collapsed": false
   },
   "outputs": [
    {
     "data": {
      "text/plain": [
       "<matplotlib.axes._subplots.AxesSubplot at 0x11898d5f8>"
      ]
     },
     "execution_count": 83,
     "metadata": {},
     "output_type": "execute_result"
    },
    {
     "data": {
      "image/png": "[encoded data removed]",
      "text/plain": [
       "<matplotlib.figure.Figure at 0x118bf08d0>"
      ]
     },
     "metadata": {},
     "output_type": "display_data"
    }
   ],
   "source": [
    "result_by_type = soccer_data.groupby(['bet_type', 'bet_status'])\n",
    "result_by_type = result_by_type.size().unstack()\n",
    "result_by_type.plot(kind='barh', stacked=True, figsize=[16,3], colormap = 'winter', title = 'Result by bet type')"
   ]
  },
  {
   "cell_type": "code",
   "execution_count": 84,
   "metadata": {
    "collapsed": false
   },
   "outputs": [
    {
     "data": {
      "text/plain": [
       "<matplotlib.axes._subplots.AxesSubplot at 0x11909f780>"
      ]
     },
     "execution_count": 84,
     "metadata": {},
     "output_type": "execute_result"
    },
    {
     "data": {
      "image/png": "[encoded data removed]",
      "text/plain": [
       "<matplotlib.figure.Figure at 0x118eb8470>"
      ]
     },
     "metadata": {},
     "output_type": "display_data"
    }
   ],
   "source": [
    "return_by_bet_type = soccer_data.pivot_table(index='bet_type', columns='bet_status', values='stake', aggfunc='sum')\n",
    "return_by_bet_type.plot(kind='area', stacked=True, figsize=[16,3])\n",
    "#return_by_bet_type.head()"
   ]
  },
  {
   "cell_type": "code",
   "execution_count": 85,
   "metadata": {
    "collapsed": false
   },
   "outputs": [
    {
     "data": {
      "text/html": [
       "<div>\n",
       "<table border=\"1\" class=\"dataframe\">\n",
       "  <thead>\n",
       "    <tr style=\"text-align: right;\">\n",
       "      <th>bet_status</th>\n",
       "      <th>bet_type</th>\n",
       "      <th>Cashed Out</th>\n",
       "      <th>Lose</th>\n",
       "      <th>Win</th>\n",
       "      <th>win_rate</th>\n",
       "    </tr>\n",
       "  </thead>\n",
       "  <tbody>\n",
       "    <tr>\n",
       "      <th>0</th>\n",
       "      <td>Handicap</td>\n",
       "      <td>NaN</td>\n",
       "      <td>1.0</td>\n",
       "      <td>2.0</td>\n",
       "      <td>0.666667</td>\n",
       "    </tr>\n",
       "    <tr>\n",
       "      <th>1</th>\n",
       "      <td>Multibet</td>\n",
       "      <td>3.0</td>\n",
       "      <td>115.0</td>\n",
       "      <td>26.0</td>\n",
       "      <td>0.184397</td>\n",
       "    </tr>\n",
       "    <tr>\n",
       "      <th>2</th>\n",
       "      <td>Single</td>\n",
       "      <td>5.0</td>\n",
       "      <td>196.0</td>\n",
       "      <td>107.0</td>\n",
       "      <td>0.353135</td>\n",
       "    </tr>\n",
       "  </tbody>\n",
       "</table>\n",
       "</div>"
      ],
      "text/plain": [
       "bet_status  bet_type  Cashed Out   Lose    Win  win_rate\n",
       "0           Handicap         NaN    1.0    2.0  0.666667\n",
       "1           Multibet         3.0  115.0   26.0  0.184397\n",
       "2             Single         5.0  196.0  107.0  0.353135"
      ]
     },
     "execution_count": 85,
     "metadata": {},
     "output_type": "execute_result"
    }
   ],
   "source": [
    "result_by_type = result_by_type.reset_index()\n",
    "result_by_type['win_rate'] = result_by_type['Win'] / (result_by_type['Win'] + result_by_type['Lose'])\n",
    "result_by_type"
   ]
  },
  {
   "cell_type": "code",
   "execution_count": 86,
   "metadata": {
    "collapsed": true
   },
   "outputs": [],
   "source": [
    "#stacked bar of wins and losses by month"
   ]
  },
  {
   "cell_type": "code",
   "execution_count": 87,
   "metadata": {
    "collapsed": false
   },
   "outputs": [
    {
     "data": {
      "text/plain": [
       "<matplotlib.axes._subplots.AxesSubplot at 0x118eb2128>"
      ]
     },
     "execution_count": 87,
     "metadata": {},
     "output_type": "execute_result"
    },
    {
     "data": {
      "image/png": "[encoded data removed]",
      "text/plain": [
       "<matplotlib.figure.Figure at 0x119034780>"
      ]
     },
     "metadata": {},
     "output_type": "display_data"
    }
   ],
   "source": [
    "net_return_by_bet_type = soccer_data.pivot_table(index='bet_type', columns= 'bet_status', values='net_return', aggfunc='sum')\n",
    "net_return_by_bet_type.head()\n",
    "net_return_by_bet_type.plot(kind='bar', stacked=True, title='Returns by bet type')"
   ]
  },
  {
   "cell_type": "code",
   "execution_count": 88,
   "metadata": {
    "collapsed": false
   },
   "outputs": [
    {
     "data": {
      "text/plain": [
       "<matplotlib.axes._subplots.AxesSubplot at 0x10a08bac8>"
      ]
     },
     "execution_count": 88,
     "metadata": {},
     "output_type": "execute_result"
    },
    {
     "data": {
      "image/png": "[encoded data removed]",
      "text/plain": [
       "<matplotlib.figure.Figure at 0x118b05be0>"
      ]
     },
     "metadata": {},
     "output_type": "display_data"
    }
   ],
   "source": [
    "net_returns_by_stake = soccer_data.pivot_table(index='stake',columns='bet_status', values='net_return', aggfunc='sum')\n",
    "net_returns_by_stake.head()\n",
    "net_returns_by_stake.plot(kind='bar', stacked=True)"
   ]
  },
  {
   "cell_type": "code",
   "execution_count": 89,
   "metadata": {
    "collapsed": false
   },
   "outputs": [
    {
     "data": {
      "text/plain": [
       "<matplotlib.axes._subplots.AxesSubplot at 0x119668630>"
      ]
     },
     "execution_count": 89,
     "metadata": {},
     "output_type": "execute_result"
    },
    {
     "data": {
      "image/png": "[encoded data removed]",
      "text/plain": [
       "<matplotlib.figure.Figure at 0x10a06d8d0>"
      ]
     },
     "metadata": {},
     "output_type": "display_data"
    }
   ],
   "source": [
    "net_return_by_stake = soccer_data.pivot_table(index='stake', values='net_return', aggfunc='sum')\n",
    "net_return_by_stake.plot(kind='bar')"
   ]
  },
  {
   "cell_type": "code",
   "execution_count": 90,
   "metadata": {
    "collapsed": false
   },
   "outputs": [
    {
     "data": {
      "text/plain": [
       "count    455.000000\n",
       "mean      -0.746879\n",
       "std        5.510309\n",
       "min      -10.000000\n",
       "25%       -5.000000\n",
       "50%       -2.500000\n",
       "75%        1.995000\n",
       "max       34.020000\n",
       "Name: net_return, dtype: float64"
      ]
     },
     "execution_count": 90,
     "metadata": {},
     "output_type": "execute_result"
    }
   ],
   "source": [
    "soccer_data['net_return'].describe()"
   ]
  },
  {
   "cell_type": "code",
   "execution_count": 91,
   "metadata": {
    "collapsed": false
   },
   "outputs": [
    {
     "data": {
      "text/plain": [
       "<matplotlib.axes._subplots.AxesSubplot at 0x1194c2908>"
      ]
     },
     "execution_count": 91,
     "metadata": {},
     "output_type": "execute_result"
    },
    {
     "data": {
      "image/png": "[encoded data removed]",
      "text/plain": [
       "<matplotlib.figure.Figure at 0x11977a0b8>"
      ]
     },
     "metadata": {},
     "output_type": "display_data"
    }
   ],
   "source": [
    "bin_values = np.arange(start=-10, stop=35, step=5)\n",
    "soccer_data['net_return'].hist(bins=bin_values)"
   ]
  },
  {
   "cell_type": "code",
   "execution_count": 92,
   "metadata": {
    "collapsed": false
   },
   "outputs": [
    {
     "data": {
      "text/html": [
       "<div>\n",
       "<table border=\"1\" class=\"dataframe\">\n",
       "  <thead>\n",
       "    <tr style=\"text-align: right;\">\n",
       "      <th></th>\n",
       "      <th>bet_status</th>\n",
       "      <th>date_placed</th>\n",
       "      <th>type</th>\n",
       "      <th>bet_details</th>\n",
       "      <th>odds</th>\n",
       "      <th>stake</th>\n",
       "      <th>return</th>\n",
       "      <th>bet_type</th>\n",
       "      <th>net_return</th>\n",
       "      <th>cum_return</th>\n",
       "    </tr>\n",
       "  </thead>\n",
       "  <tbody>\n",
       "    <tr>\n",
       "      <th>0</th>\n",
       "      <td>Lose</td>\n",
       "      <td>2015-01-10 18:06:00</td>\n",
       "      <td>Soccer</td>\n",
       "      <td>Multibet (Doubles)</td>\n",
       "      <td>6.56</td>\n",
       "      <td>5.0</td>\n",
       "      <td>0.0</td>\n",
       "      <td>Multibet</td>\n",
       "      <td>-5.0</td>\n",
       "      <td>-5.0</td>\n",
       "    </tr>\n",
       "    <tr>\n",
       "      <th>1</th>\n",
       "      <td>Lose</td>\n",
       "      <td>2015-01-10 18:10:00</td>\n",
       "      <td>Soccer</td>\n",
       "      <td>Multibet (Doubles)</td>\n",
       "      <td>10.2</td>\n",
       "      <td>3.0</td>\n",
       "      <td>0.0</td>\n",
       "      <td>Multibet</td>\n",
       "      <td>-3.0</td>\n",
       "      <td>-8.0</td>\n",
       "    </tr>\n",
       "    <tr>\n",
       "      <th>2</th>\n",
       "      <td>Lose</td>\n",
       "      <td>2015-01-10 18:12:00</td>\n",
       "      <td>Soccer</td>\n",
       "      <td>Multibet (Doubles)</td>\n",
       "      <td>13.5</td>\n",
       "      <td>3.0</td>\n",
       "      <td>0.0</td>\n",
       "      <td>Multibet</td>\n",
       "      <td>-3.0</td>\n",
       "      <td>-11.0</td>\n",
       "    </tr>\n",
       "    <tr>\n",
       "      <th>3</th>\n",
       "      <td>Lose</td>\n",
       "      <td>2015-01-15 16:59:00</td>\n",
       "      <td>Soccer</td>\n",
       "      <td>Multibet (5 folds)</td>\n",
       "      <td>138.91</td>\n",
       "      <td>5.0</td>\n",
       "      <td>0.0</td>\n",
       "      <td>Multibet</td>\n",
       "      <td>-5.0</td>\n",
       "      <td>-16.0</td>\n",
       "    </tr>\n",
       "    <tr>\n",
       "      <th>4</th>\n",
       "      <td>Lose</td>\n",
       "      <td>2015-01-15 19:42:00</td>\n",
       "      <td>Soccer</td>\n",
       "      <td>Multibet (Trebles)</td>\n",
       "      <td>4.49</td>\n",
       "      <td>2.0</td>\n",
       "      <td>0.0</td>\n",
       "      <td>Multibet</td>\n",
       "      <td>-2.0</td>\n",
       "      <td>-18.0</td>\n",
       "    </tr>\n",
       "  </tbody>\n",
       "</table>\n",
       "</div>"
      ],
      "text/plain": [
       "  bet_status         date_placed    type         bet_details    odds  stake  \\\n",
       "0       Lose 2015-01-10 18:06:00  Soccer  Multibet (Doubles)    6.56    5.0   \n",
       "1       Lose 2015-01-10 18:10:00  Soccer  Multibet (Doubles)    10.2    3.0   \n",
       "2       Lose 2015-01-10 18:12:00  Soccer  Multibet (Doubles)    13.5    3.0   \n",
       "3       Lose 2015-01-15 16:59:00  Soccer  Multibet (5 folds)  138.91    5.0   \n",
       "4       Lose 2015-01-15 19:42:00  Soccer  Multibet (Trebles)    4.49    2.0   \n",
       "\n",
       "   return  bet_type  net_return  cum_return  \n",
       "0     0.0  Multibet        -5.0        -5.0  \n",
       "1     0.0  Multibet        -3.0        -8.0  \n",
       "2     0.0  Multibet        -3.0       -11.0  \n",
       "3     0.0  Multibet        -5.0       -16.0  \n",
       "4     0.0  Multibet        -2.0       -18.0  "
      ]
     },
     "execution_count": 92,
     "metadata": {},
     "output_type": "execute_result"
    }
   ],
   "source": [
    "dfb = soccer_data\n",
    "dfb['cum_return'] = dfb.net_return.cumsum()\n",
    "\n",
    "dfb.head()"
   ]
  },
  {
   "cell_type": "code",
   "execution_count": 93,
   "metadata": {
    "collapsed": false
   },
   "outputs": [],
   "source": [
    "dfc = dfb['cum_return'].reset_index().rename(columns={'index':'bet_number'})\n",
    "dfc.loc[:,'bet_number'] = dfc['bet_number'] +1\n"
   ]
  },
  {
   "cell_type": "code",
   "execution_count": 94,
   "metadata": {
    "collapsed": false
   },
   "outputs": [
    {
     "data": {
      "image/png": "[encoded data removed]",
      "text/plain": [
       "<matplotlib.figure.Figure at 0x119b31a20>"
      ]
     },
     "metadata": {},
     "output_type": "display_data"
    }
   ],
   "source": [
    "plt.figure(figsize=(16,5))\n",
    "plt.plot(dfc['bet_number'],dfc['cum_return'])\n",
    "plt.title('Cumulative Bet Returns')\n",
    "plt.show()"
   ]
  },
  {
   "cell_type": "code",
   "execution_count": 95,
   "metadata": {
    "collapsed": false
   },
   "outputs": [
    {
     "data": {
      "text/html": [
       "<div>\n",
       "<table border=\"1\" class=\"dataframe\">\n",
       "  <thead>\n",
       "    <tr style=\"text-align: right;\">\n",
       "      <th></th>\n",
       "      <th>bet_status</th>\n",
       "      <th>date_placed</th>\n",
       "      <th>type</th>\n",
       "      <th>bet_details</th>\n",
       "      <th>odds</th>\n",
       "      <th>stake</th>\n",
       "      <th>return</th>\n",
       "      <th>bet_type</th>\n",
       "      <th>net_return</th>\n",
       "      <th>cum_return</th>\n",
       "    </tr>\n",
       "  </thead>\n",
       "  <tbody>\n",
       "    <tr>\n",
       "      <th>100</th>\n",
       "      <td>Lose</td>\n",
       "      <td>2016-01-15 17:20:00</td>\n",
       "      <td>Soccer</td>\n",
       "      <td>Napoli v Sassuolo / Draw No Bet / Sassuolo @ 8.00</td>\n",
       "      <td>8</td>\n",
       "      <td>5.0</td>\n",
       "      <td>0.00</td>\n",
       "      <td>Single</td>\n",
       "      <td>-5.00</td>\n",
       "      <td>-142.97</td>\n",
       "    </tr>\n",
       "    <tr>\n",
       "      <th>101</th>\n",
       "      <td>Lose</td>\n",
       "      <td>2016-01-15 17:21:00</td>\n",
       "      <td>Soccer</td>\n",
       "      <td>Tottenham v Sunderland / First Goalscorer / J ...</td>\n",
       "      <td>13</td>\n",
       "      <td>2.0</td>\n",
       "      <td>0.00</td>\n",
       "      <td>Single</td>\n",
       "      <td>-2.00</td>\n",
       "      <td>-144.97</td>\n",
       "    </tr>\n",
       "    <tr>\n",
       "      <th>102</th>\n",
       "      <td>Lose</td>\n",
       "      <td>2016-01-15 17:24:00</td>\n",
       "      <td>Soccer</td>\n",
       "      <td>Liverpool v Man Utd / First Goalscorer / R Fir...</td>\n",
       "      <td>7.5</td>\n",
       "      <td>2.0</td>\n",
       "      <td>0.00</td>\n",
       "      <td>Single</td>\n",
       "      <td>-2.00</td>\n",
       "      <td>-146.97</td>\n",
       "    </tr>\n",
       "    <tr>\n",
       "      <th>103</th>\n",
       "      <td>Lose</td>\n",
       "      <td>2016-01-22 16:25:00</td>\n",
       "      <td>Soccer</td>\n",
       "      <td>Multibet (Doubles)</td>\n",
       "      <td>7.92</td>\n",
       "      <td>5.0</td>\n",
       "      <td>0.00</td>\n",
       "      <td>Multibet</td>\n",
       "      <td>-5.00</td>\n",
       "      <td>-151.97</td>\n",
       "    </tr>\n",
       "    <tr>\n",
       "      <th>104</th>\n",
       "      <td>Lose</td>\n",
       "      <td>2016-01-22 16:25:00</td>\n",
       "      <td>Soccer</td>\n",
       "      <td>Multibet (6 folds)</td>\n",
       "      <td>352.12</td>\n",
       "      <td>2.0</td>\n",
       "      <td>0.00</td>\n",
       "      <td>Multibet</td>\n",
       "      <td>-2.00</td>\n",
       "      <td>-153.97</td>\n",
       "    </tr>\n",
       "    <tr>\n",
       "      <th>105</th>\n",
       "      <td>Lose</td>\n",
       "      <td>2016-01-22 16:26:00</td>\n",
       "      <td>Soccer</td>\n",
       "      <td>Multibet (Doubles)</td>\n",
       "      <td>11.4</td>\n",
       "      <td>5.0</td>\n",
       "      <td>0.00</td>\n",
       "      <td>Multibet</td>\n",
       "      <td>-5.00</td>\n",
       "      <td>-158.97</td>\n",
       "    </tr>\n",
       "    <tr>\n",
       "      <th>106</th>\n",
       "      <td>Lose</td>\n",
       "      <td>2016-01-22 16:28:00</td>\n",
       "      <td>Soccer</td>\n",
       "      <td>Multibet (Trebles)</td>\n",
       "      <td>2.72</td>\n",
       "      <td>5.0</td>\n",
       "      <td>0.00</td>\n",
       "      <td>Multibet</td>\n",
       "      <td>-5.00</td>\n",
       "      <td>-163.97</td>\n",
       "    </tr>\n",
       "    <tr>\n",
       "      <th>107</th>\n",
       "      <td>Lose</td>\n",
       "      <td>2016-01-22 16:34:00</td>\n",
       "      <td>Soccer</td>\n",
       "      <td>Multibet (Trebles)</td>\n",
       "      <td>2.56</td>\n",
       "      <td>5.0</td>\n",
       "      <td>0.00</td>\n",
       "      <td>Multibet</td>\n",
       "      <td>-5.00</td>\n",
       "      <td>-168.97</td>\n",
       "    </tr>\n",
       "    <tr>\n",
       "      <th>108</th>\n",
       "      <td>Cashed Out</td>\n",
       "      <td>2016-02-03 17:04:00</td>\n",
       "      <td>Soccer</td>\n",
       "      <td>Liverpool v Man City / Win-Draw-Win / Man City...</td>\n",
       "      <td>2.75</td>\n",
       "      <td>5.0</td>\n",
       "      <td>0.02</td>\n",
       "      <td>Single</td>\n",
       "      <td>-4.98</td>\n",
       "      <td>-173.95</td>\n",
       "    </tr>\n",
       "    <tr>\n",
       "      <th>109</th>\n",
       "      <td>Lose</td>\n",
       "      <td>2016-02-03 17:04:00</td>\n",
       "      <td>Soccer</td>\n",
       "      <td>Multibet (Trebles)</td>\n",
       "      <td>4.37</td>\n",
       "      <td>5.0</td>\n",
       "      <td>0.00</td>\n",
       "      <td>Multibet</td>\n",
       "      <td>-5.00</td>\n",
       "      <td>-178.95</td>\n",
       "    </tr>\n",
       "  </tbody>\n",
       "</table>\n",
       "</div>"
      ],
      "text/plain": [
       "     bet_status         date_placed    type  \\\n",
       "100        Lose 2016-01-15 17:20:00  Soccer   \n",
       "101        Lose 2016-01-15 17:21:00  Soccer   \n",
       "102        Lose 2016-01-15 17:24:00  Soccer   \n",
       "103        Lose 2016-01-22 16:25:00  Soccer   \n",
       "104        Lose 2016-01-22 16:25:00  Soccer   \n",
       "105        Lose 2016-01-22 16:26:00  Soccer   \n",
       "106        Lose 2016-01-22 16:28:00  Soccer   \n",
       "107        Lose 2016-01-22 16:34:00  Soccer   \n",
       "108  Cashed Out 2016-02-03 17:04:00  Soccer   \n",
       "109        Lose 2016-02-03 17:04:00  Soccer   \n",
       "\n",
       "                                           bet_details    odds  stake  return  \\\n",
       "100  Napoli v Sassuolo / Draw No Bet / Sassuolo @ 8.00       8    5.0    0.00   \n",
       "101  Tottenham v Sunderland / First Goalscorer / J ...      13    2.0    0.00   \n",
       "102  Liverpool v Man Utd / First Goalscorer / R Fir...     7.5    2.0    0.00   \n",
       "103                                 Multibet (Doubles)    7.92    5.0    0.00   \n",
       "104                                 Multibet (6 folds)  352.12    2.0    0.00   \n",
       "105                                 Multibet (Doubles)    11.4    5.0    0.00   \n",
       "106                                 Multibet (Trebles)    2.72    5.0    0.00   \n",
       "107                                 Multibet (Trebles)    2.56    5.0    0.00   \n",
       "108  Liverpool v Man City / Win-Draw-Win / Man City...    2.75    5.0    0.02   \n",
       "109                                 Multibet (Trebles)    4.37    5.0    0.00   \n",
       "\n",
       "     bet_type  net_return  cum_return  \n",
       "100    Single       -5.00     -142.97  \n",
       "101    Single       -2.00     -144.97  \n",
       "102    Single       -2.00     -146.97  \n",
       "103  Multibet       -5.00     -151.97  \n",
       "104  Multibet       -2.00     -153.97  \n",
       "105  Multibet       -5.00     -158.97  \n",
       "106  Multibet       -5.00     -163.97  \n",
       "107  Multibet       -5.00     -168.97  \n",
       "108    Single       -4.98     -173.95  \n",
       "109  Multibet       -5.00     -178.95  "
      ]
     },
     "execution_count": 95,
     "metadata": {},
     "output_type": "execute_result"
    }
   ],
   "source": [
    "dfb[100:110]"
   ]
  },
  {
   "cell_type": "code",
   "execution_count": 96,
   "metadata": {
    "collapsed": false,
    "scrolled": true
   },
   "outputs": [
    {
     "data": {
      "text/plain": [
       "(53.5, 51.88, -1.62)"
      ]
     },
     "execution_count": 96,
     "metadata": {},
     "output_type": "execute_result"
    }
   ],
   "source": [
    "# Do we suck at betting on Chelsea?\n",
    "chelsea_paradox = dfb\n",
    "\n",
    "    #Matches involving Chelsea\n",
    "chelsea_paradox['chelsea_match'] = chelsea_paradox['bet_details'].str.contains('Chelsea', case=True)\n",
    "#leicester_match = leicester['bet_details'].str.contains('leicester', case=True)\n",
    "chelsea_match = (chelsea_paradox['chelsea_match']) == True\n",
    "chelsea_paradox = chelsea_paradox[chelsea_match]\n",
    "\n",
    "chelsea_paradox[\"stake\"].sum(), chelsea_paradox[\"return\"].sum(), chelsea_paradox[\"net_return\"].sum()"
   ]
  },
  {
   "cell_type": "code",
   "execution_count": 97,
   "metadata": {
    "collapsed": false
   },
   "outputs": [
    {
     "name": "stderr",
     "output_type": "stream",
     "text": [
      "/Users/rohan/anaconda/lib/python3.5/site-packages/ipykernel/__main__.py:11: UserWarning: Boolean Series key will be reindexed to match DataFrame index.\n"
     ]
    },
    {
     "data": {
      "text/plain": [
       "(50.0, 38.730000000000004, -11.27)"
      ]
     },
     "execution_count": 97,
     "metadata": {},
     "output_type": "execute_result"
    }
   ],
   "source": [
    "# Do we suck at betting on Leicester?\n",
    "leicester = dfb\n",
    "\n",
    "    #Matches involving Leicester\n",
    "leicester['leicester_match'] = leicester['bet_details'].str.contains('Leicester', case=True)\n",
    "    #Matches where we bet on a result\n",
    "leicester['result_bet'] = leicester['bet_details'].str.contains('Win-Draw-Win', case=True)\n",
    "leicester_match = (leicester['leicester_match']) == True\n",
    "leicester_result_bet = (leicester['result_bet']) == True\n",
    "leicester = leicester[leicester_match]\n",
    "leicester = leicester[leicester_result_bet]\n",
    "\n",
    "\n",
    "leicester[\"stake\"].sum(), leicester[\"return\"].sum(), leicester[\"net_return\"].sum()"
   ]
  },
  {
   "cell_type": "code",
   "execution_count": null,
   "metadata": {
    "collapsed": true
   },
   "outputs": [],
   "source": []
  }
 ],
 "metadata": {
  "anaconda-cloud": {},
  "kernelspec": {
   "display_name": "Python [default]",
   "language": "python",
   "name": "python3"
  },
  "language_info": {
   "codemirror_mode": {
    "name": "ipython",
    "version": 3
   },
   "file_extension": ".py",
   "mimetype": "text/x-python",
   "name": "python",
   "nbconvert_exporter": "python",
   "pygments_lexer": "ipython3",
   "version": "3.5.2"
  }
 },
 "nbformat": 4,
 "nbformat_minor": 1
}
